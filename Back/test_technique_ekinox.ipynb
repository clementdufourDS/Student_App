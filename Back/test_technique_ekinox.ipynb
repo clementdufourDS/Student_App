{
 "cells": [
  {
   "cell_type": "markdown",
   "id": "c6212a1f",
   "metadata": {},
   "source": [
    "# Test Technique Ekinox"
   ]
  },
  {
   "cell_type": "markdown",
   "id": "47747af6",
   "metadata": {},
   "source": [
    "### Description de la mission"
   ]
  },
  {
   "cell_type": "markdown",
   "id": "9c9825b8",
   "metadata": {},
   "source": [
    "Face à la chute du niveau scolaire constaté à la suite de la fermeture des écoles, le “Ministério da Educação” (Ministère de l'Éducation portugais) vous contacte, avec l'idée d'utiliser la data et l’IA pour tenter de remédier à la situation.\n",
    "\n",
    "Le Ministère souhaiterait que les conseillers pédagogiques de chaque établissement puissent disposer d’un outil leur permettant de prioriser les élèves à accompagner. Pour cela, ils imaginent un dashboard qui permettrait de prioriser les élèves à accompagner en fonction de la complexité et de la valeur d’un tel accompagnement. \n",
    "\n",
    "Ce dashboard pourrait par exemple se centrer autour d’un graphe permettant de visualiser l’ensemble des élèves de l’établissement suivant deux axes. Le premier axe présenterait la note actuelle de l’élève, indiquant ainsi l’intérêt qu’il y aurait à lui apporter un soutien personnalisé. Le deuxième axe permettrait d’évaluer la complexité d’accompagner l’élève pour améliorer son niveau scolaire (en se basant par exemple sur la présence d’indicateurs actionnables tels qu’un niveau d’absentéisme fort, la consommation d’alcool ou un temps d’étude hebdomadaire en dessous de la moyenne). Voici ce que pourrait donner un tel dashboard (les élèves à aider en priorité correspondant aux points en haut à droite)."
   ]
  },
  {
   "cell_type": "markdown",
   "id": "75c79164",
   "metadata": {},
   "source": [
    "### Import librairies et données"
   ]
  },
  {
   "cell_type": "code",
   "execution_count": 214,
   "id": "3b6c9c17",
   "metadata": {},
   "outputs": [],
   "source": [
    "import pandas as pd\n",
    "\n",
    "#---------------------------------\n",
    "import numpy as np\n",
    "\n",
    "#---------------------------------\n",
    "import matplotlib.pyplot as plt\n",
    "import seaborn as sns\n",
    "import plotly.express as px\n",
    "\n",
    "#---------------------------------\n",
    "from sklearn.linear_model import ElasticNet\n",
    "from sklearn.model_selection import train_test_split, GridSearchCV, RandomizedSearchCV\n",
    "from sklearn.ensemble import RandomForestRegressor\n",
    "from xgboost import XGBRegressor\n",
    "from sklearn.preprocessing import StandardScaler\n",
    "from sklearn.metrics import mean_squared_error, r2_score"
   ]
  },
  {
   "cell_type": "code",
   "execution_count": 215,
   "id": "e8785984",
   "metadata": {},
   "outputs": [],
   "source": [
    "df = pd.read_csv('student_data.csv')"
   ]
  },
  {
   "cell_type": "markdown",
   "id": "929c504d",
   "metadata": {},
   "source": [
    "### Exploration des données"
   ]
  },
  {
   "cell_type": "code",
   "execution_count": 216,
   "id": "cf55a4f2",
   "metadata": {},
   "outputs": [
    {
     "data": {
      "text/html": [
       "<div>\n",
       "<style scoped>\n",
       "    .dataframe tbody tr th:only-of-type {\n",
       "        vertical-align: middle;\n",
       "    }\n",
       "\n",
       "    .dataframe tbody tr th {\n",
       "        vertical-align: top;\n",
       "    }\n",
       "\n",
       "    .dataframe thead th {\n",
       "        text-align: right;\n",
       "    }\n",
       "</style>\n",
       "<table border=\"1\" class=\"dataframe\">\n",
       "  <thead>\n",
       "    <tr style=\"text-align: right;\">\n",
       "      <th></th>\n",
       "      <th>StudentID</th>\n",
       "      <th>FirstName</th>\n",
       "      <th>FamilyName</th>\n",
       "      <th>school</th>\n",
       "      <th>sex</th>\n",
       "      <th>age</th>\n",
       "      <th>address</th>\n",
       "      <th>famsize</th>\n",
       "      <th>Pstatus</th>\n",
       "      <th>Medu</th>\n",
       "      <th>...</th>\n",
       "      <th>internet</th>\n",
       "      <th>romantic</th>\n",
       "      <th>famrel</th>\n",
       "      <th>freetime</th>\n",
       "      <th>goout</th>\n",
       "      <th>Dalc</th>\n",
       "      <th>Walc</th>\n",
       "      <th>health</th>\n",
       "      <th>absences</th>\n",
       "      <th>FinalGrade</th>\n",
       "    </tr>\n",
       "  </thead>\n",
       "  <tbody>\n",
       "    <tr>\n",
       "      <th>0</th>\n",
       "      <td>0</td>\n",
       "      <td>Rafael</td>\n",
       "      <td>Morais</td>\n",
       "      <td>GP</td>\n",
       "      <td>F</td>\n",
       "      <td>18</td>\n",
       "      <td>U</td>\n",
       "      <td>GT3</td>\n",
       "      <td>A</td>\n",
       "      <td>4</td>\n",
       "      <td>...</td>\n",
       "      <td>no</td>\n",
       "      <td>no</td>\n",
       "      <td>4</td>\n",
       "      <td>3</td>\n",
       "      <td>4</td>\n",
       "      <td>1</td>\n",
       "      <td>1</td>\n",
       "      <td>3</td>\n",
       "      <td>6</td>\n",
       "      <td>6</td>\n",
       "    </tr>\n",
       "    <tr>\n",
       "      <th>1</th>\n",
       "      <td>1</td>\n",
       "      <td>Lara</td>\n",
       "      <td>Braga</td>\n",
       "      <td>GP</td>\n",
       "      <td>F</td>\n",
       "      <td>17</td>\n",
       "      <td>U</td>\n",
       "      <td>GT3</td>\n",
       "      <td>T</td>\n",
       "      <td>1</td>\n",
       "      <td>...</td>\n",
       "      <td>yes</td>\n",
       "      <td>no</td>\n",
       "      <td>5</td>\n",
       "      <td>3</td>\n",
       "      <td>3</td>\n",
       "      <td>1</td>\n",
       "      <td>1</td>\n",
       "      <td>3</td>\n",
       "      <td>4</td>\n",
       "      <td>6</td>\n",
       "    </tr>\n",
       "    <tr>\n",
       "      <th>2</th>\n",
       "      <td>2</td>\n",
       "      <td>Gonçalo</td>\n",
       "      <td>Azevedo</td>\n",
       "      <td>GP</td>\n",
       "      <td>F</td>\n",
       "      <td>15</td>\n",
       "      <td>U</td>\n",
       "      <td>LE3</td>\n",
       "      <td>T</td>\n",
       "      <td>1</td>\n",
       "      <td>...</td>\n",
       "      <td>yes</td>\n",
       "      <td>no</td>\n",
       "      <td>4</td>\n",
       "      <td>3</td>\n",
       "      <td>2</td>\n",
       "      <td>2</td>\n",
       "      <td>3</td>\n",
       "      <td>3</td>\n",
       "      <td>10</td>\n",
       "      <td>10</td>\n",
       "    </tr>\n",
       "    <tr>\n",
       "      <th>3</th>\n",
       "      <td>3</td>\n",
       "      <td>Lara</td>\n",
       "      <td>Perna</td>\n",
       "      <td>GP</td>\n",
       "      <td>F</td>\n",
       "      <td>15</td>\n",
       "      <td>U</td>\n",
       "      <td>GT3</td>\n",
       "      <td>T</td>\n",
       "      <td>4</td>\n",
       "      <td>...</td>\n",
       "      <td>yes</td>\n",
       "      <td>yes</td>\n",
       "      <td>3</td>\n",
       "      <td>2</td>\n",
       "      <td>2</td>\n",
       "      <td>1</td>\n",
       "      <td>1</td>\n",
       "      <td>5</td>\n",
       "      <td>2</td>\n",
       "      <td>15</td>\n",
       "    </tr>\n",
       "    <tr>\n",
       "      <th>4</th>\n",
       "      <td>4</td>\n",
       "      <td>João</td>\n",
       "      <td>Pires</td>\n",
       "      <td>GP</td>\n",
       "      <td>F</td>\n",
       "      <td>16</td>\n",
       "      <td>U</td>\n",
       "      <td>GT3</td>\n",
       "      <td>T</td>\n",
       "      <td>3</td>\n",
       "      <td>...</td>\n",
       "      <td>no</td>\n",
       "      <td>no</td>\n",
       "      <td>4</td>\n",
       "      <td>3</td>\n",
       "      <td>2</td>\n",
       "      <td>1</td>\n",
       "      <td>2</td>\n",
       "      <td>5</td>\n",
       "      <td>4</td>\n",
       "      <td>10</td>\n",
       "    </tr>\n",
       "  </tbody>\n",
       "</table>\n",
       "<p>5 rows × 34 columns</p>\n",
       "</div>"
      ],
      "text/plain": [
       "   StudentID FirstName FamilyName school sex  age address famsize Pstatus  \\\n",
       "0          0    Rafael     Morais     GP   F   18       U     GT3       A   \n",
       "1          1      Lara      Braga     GP   F   17       U     GT3       T   \n",
       "2          2   Gonçalo    Azevedo     GP   F   15       U     LE3       T   \n",
       "3          3      Lara      Perna     GP   F   15       U     GT3       T   \n",
       "4          4      João      Pires     GP   F   16       U     GT3       T   \n",
       "\n",
       "   Medu  ...  internet romantic famrel freetime goout  Dalc  Walc  health  \\\n",
       "0     4  ...        no       no      4        3     4     1     1       3   \n",
       "1     1  ...       yes       no      5        3     3     1     1       3   \n",
       "2     1  ...       yes       no      4        3     2     2     3       3   \n",
       "3     4  ...       yes      yes      3        2     2     1     1       5   \n",
       "4     3  ...        no       no      4        3     2     1     2       5   \n",
       "\n",
       "  absences FinalGrade  \n",
       "0        6          6  \n",
       "1        4          6  \n",
       "2       10         10  \n",
       "3        2         15  \n",
       "4        4         10  \n",
       "\n",
       "[5 rows x 34 columns]"
      ]
     },
     "execution_count": 216,
     "metadata": {},
     "output_type": "execute_result"
    }
   ],
   "source": [
    "df.head()"
   ]
  },
  {
   "cell_type": "code",
   "execution_count": 217,
   "id": "4046aed5",
   "metadata": {},
   "outputs": [
    {
     "name": "stdout",
     "output_type": "stream",
     "text": [
      "<class 'pandas.core.frame.DataFrame'>\n",
      "RangeIndex: 357 entries, 0 to 356\n",
      "Data columns (total 34 columns):\n",
      " #   Column      Non-Null Count  Dtype \n",
      "---  ------      --------------  ----- \n",
      " 0   StudentID   357 non-null    int64 \n",
      " 1   FirstName   357 non-null    object\n",
      " 2   FamilyName  357 non-null    object\n",
      " 3   school      357 non-null    object\n",
      " 4   sex         357 non-null    object\n",
      " 5   age         357 non-null    int64 \n",
      " 6   address     357 non-null    object\n",
      " 7   famsize     357 non-null    object\n",
      " 8   Pstatus     357 non-null    object\n",
      " 9   Medu        357 non-null    int64 \n",
      " 10  Fedu        357 non-null    int64 \n",
      " 11  Mjob        357 non-null    object\n",
      " 12  Fjob        357 non-null    object\n",
      " 13  reason      357 non-null    object\n",
      " 14  guardian    357 non-null    object\n",
      " 15  traveltime  357 non-null    int64 \n",
      " 16  studytime   357 non-null    int64 \n",
      " 17  failures    357 non-null    int64 \n",
      " 18  schoolsup   357 non-null    object\n",
      " 19  famsup      357 non-null    object\n",
      " 20  paid        357 non-null    object\n",
      " 21  activities  357 non-null    object\n",
      " 22  nursery     357 non-null    object\n",
      " 23  higher      357 non-null    object\n",
      " 24  internet    357 non-null    object\n",
      " 25  romantic    357 non-null    object\n",
      " 26  famrel      357 non-null    int64 \n",
      " 27  freetime    357 non-null    int64 \n",
      " 28  goout       357 non-null    int64 \n",
      " 29  Dalc        357 non-null    int64 \n",
      " 30  Walc        357 non-null    int64 \n",
      " 31  health      357 non-null    int64 \n",
      " 32  absences    357 non-null    int64 \n",
      " 33  FinalGrade  357 non-null    int64 \n",
      "dtypes: int64(15), object(19)\n",
      "memory usage: 95.0+ KB\n"
     ]
    }
   ],
   "source": [
    "df.info()"
   ]
  },
  {
   "cell_type": "code",
   "execution_count": 218,
   "id": "4bf29bb8",
   "metadata": {},
   "outputs": [
    {
     "data": {
      "text/html": [
       "<div>\n",
       "<style scoped>\n",
       "    .dataframe tbody tr th:only-of-type {\n",
       "        vertical-align: middle;\n",
       "    }\n",
       "\n",
       "    .dataframe tbody tr th {\n",
       "        vertical-align: top;\n",
       "    }\n",
       "\n",
       "    .dataframe thead th {\n",
       "        text-align: right;\n",
       "    }\n",
       "</style>\n",
       "<table border=\"1\" class=\"dataframe\">\n",
       "  <thead>\n",
       "    <tr style=\"text-align: right;\">\n",
       "      <th></th>\n",
       "      <th>StudentID</th>\n",
       "      <th>FirstName</th>\n",
       "      <th>FamilyName</th>\n",
       "      <th>school</th>\n",
       "      <th>sex</th>\n",
       "      <th>age</th>\n",
       "      <th>address</th>\n",
       "      <th>famsize</th>\n",
       "      <th>Pstatus</th>\n",
       "      <th>Medu</th>\n",
       "      <th>...</th>\n",
       "      <th>internet</th>\n",
       "      <th>romantic</th>\n",
       "      <th>famrel</th>\n",
       "      <th>freetime</th>\n",
       "      <th>goout</th>\n",
       "      <th>Dalc</th>\n",
       "      <th>Walc</th>\n",
       "      <th>health</th>\n",
       "      <th>absences</th>\n",
       "      <th>FinalGrade</th>\n",
       "    </tr>\n",
       "  </thead>\n",
       "  <tbody>\n",
       "    <tr>\n",
       "      <th>0</th>\n",
       "      <td>0</td>\n",
       "      <td>Rafael</td>\n",
       "      <td>Morais</td>\n",
       "      <td>GP</td>\n",
       "      <td>F</td>\n",
       "      <td>18</td>\n",
       "      <td>U</td>\n",
       "      <td>GT3</td>\n",
       "      <td>A</td>\n",
       "      <td>4</td>\n",
       "      <td>...</td>\n",
       "      <td>no</td>\n",
       "      <td>no</td>\n",
       "      <td>4</td>\n",
       "      <td>3</td>\n",
       "      <td>4</td>\n",
       "      <td>1</td>\n",
       "      <td>1</td>\n",
       "      <td>3</td>\n",
       "      <td>6</td>\n",
       "      <td>6</td>\n",
       "    </tr>\n",
       "    <tr>\n",
       "      <th>1</th>\n",
       "      <td>1</td>\n",
       "      <td>Lara</td>\n",
       "      <td>Braga</td>\n",
       "      <td>GP</td>\n",
       "      <td>F</td>\n",
       "      <td>17</td>\n",
       "      <td>U</td>\n",
       "      <td>GT3</td>\n",
       "      <td>T</td>\n",
       "      <td>1</td>\n",
       "      <td>...</td>\n",
       "      <td>yes</td>\n",
       "      <td>no</td>\n",
       "      <td>5</td>\n",
       "      <td>3</td>\n",
       "      <td>3</td>\n",
       "      <td>1</td>\n",
       "      <td>1</td>\n",
       "      <td>3</td>\n",
       "      <td>4</td>\n",
       "      <td>6</td>\n",
       "    </tr>\n",
       "    <tr>\n",
       "      <th>2</th>\n",
       "      <td>2</td>\n",
       "      <td>Gonçalo</td>\n",
       "      <td>Azevedo</td>\n",
       "      <td>GP</td>\n",
       "      <td>F</td>\n",
       "      <td>15</td>\n",
       "      <td>U</td>\n",
       "      <td>LE3</td>\n",
       "      <td>T</td>\n",
       "      <td>1</td>\n",
       "      <td>...</td>\n",
       "      <td>yes</td>\n",
       "      <td>no</td>\n",
       "      <td>4</td>\n",
       "      <td>3</td>\n",
       "      <td>2</td>\n",
       "      <td>2</td>\n",
       "      <td>3</td>\n",
       "      <td>3</td>\n",
       "      <td>10</td>\n",
       "      <td>10</td>\n",
       "    </tr>\n",
       "    <tr>\n",
       "      <th>3</th>\n",
       "      <td>3</td>\n",
       "      <td>Lara</td>\n",
       "      <td>Perna</td>\n",
       "      <td>GP</td>\n",
       "      <td>F</td>\n",
       "      <td>15</td>\n",
       "      <td>U</td>\n",
       "      <td>GT3</td>\n",
       "      <td>T</td>\n",
       "      <td>4</td>\n",
       "      <td>...</td>\n",
       "      <td>yes</td>\n",
       "      <td>yes</td>\n",
       "      <td>3</td>\n",
       "      <td>2</td>\n",
       "      <td>2</td>\n",
       "      <td>1</td>\n",
       "      <td>1</td>\n",
       "      <td>5</td>\n",
       "      <td>2</td>\n",
       "      <td>15</td>\n",
       "    </tr>\n",
       "    <tr>\n",
       "      <th>4</th>\n",
       "      <td>4</td>\n",
       "      <td>João</td>\n",
       "      <td>Pires</td>\n",
       "      <td>GP</td>\n",
       "      <td>F</td>\n",
       "      <td>16</td>\n",
       "      <td>U</td>\n",
       "      <td>GT3</td>\n",
       "      <td>T</td>\n",
       "      <td>3</td>\n",
       "      <td>...</td>\n",
       "      <td>no</td>\n",
       "      <td>no</td>\n",
       "      <td>4</td>\n",
       "      <td>3</td>\n",
       "      <td>2</td>\n",
       "      <td>1</td>\n",
       "      <td>2</td>\n",
       "      <td>5</td>\n",
       "      <td>4</td>\n",
       "      <td>10</td>\n",
       "    </tr>\n",
       "    <tr>\n",
       "      <th>...</th>\n",
       "      <td>...</td>\n",
       "      <td>...</td>\n",
       "      <td>...</td>\n",
       "      <td>...</td>\n",
       "      <td>...</td>\n",
       "      <td>...</td>\n",
       "      <td>...</td>\n",
       "      <td>...</td>\n",
       "      <td>...</td>\n",
       "      <td>...</td>\n",
       "      <td>...</td>\n",
       "      <td>...</td>\n",
       "      <td>...</td>\n",
       "      <td>...</td>\n",
       "      <td>...</td>\n",
       "      <td>...</td>\n",
       "      <td>...</td>\n",
       "      <td>...</td>\n",
       "      <td>...</td>\n",
       "      <td>...</td>\n",
       "      <td>...</td>\n",
       "    </tr>\n",
       "    <tr>\n",
       "      <th>352</th>\n",
       "      <td>390</td>\n",
       "      <td>Alice</td>\n",
       "      <td>Barcellos</td>\n",
       "      <td>MS</td>\n",
       "      <td>M</td>\n",
       "      <td>20</td>\n",
       "      <td>U</td>\n",
       "      <td>LE3</td>\n",
       "      <td>A</td>\n",
       "      <td>2</td>\n",
       "      <td>...</td>\n",
       "      <td>no</td>\n",
       "      <td>no</td>\n",
       "      <td>5</td>\n",
       "      <td>5</td>\n",
       "      <td>4</td>\n",
       "      <td>4</td>\n",
       "      <td>5</td>\n",
       "      <td>4</td>\n",
       "      <td>11</td>\n",
       "      <td>9</td>\n",
       "    </tr>\n",
       "    <tr>\n",
       "      <th>353</th>\n",
       "      <td>391</td>\n",
       "      <td>Rodrigo</td>\n",
       "      <td>Quintal</td>\n",
       "      <td>MS</td>\n",
       "      <td>M</td>\n",
       "      <td>17</td>\n",
       "      <td>U</td>\n",
       "      <td>LE3</td>\n",
       "      <td>T</td>\n",
       "      <td>3</td>\n",
       "      <td>...</td>\n",
       "      <td>yes</td>\n",
       "      <td>no</td>\n",
       "      <td>2</td>\n",
       "      <td>4</td>\n",
       "      <td>5</td>\n",
       "      <td>3</td>\n",
       "      <td>4</td>\n",
       "      <td>2</td>\n",
       "      <td>3</td>\n",
       "      <td>16</td>\n",
       "    </tr>\n",
       "    <tr>\n",
       "      <th>354</th>\n",
       "      <td>392</td>\n",
       "      <td>Carolina</td>\n",
       "      <td>Hiza</td>\n",
       "      <td>MS</td>\n",
       "      <td>M</td>\n",
       "      <td>21</td>\n",
       "      <td>R</td>\n",
       "      <td>GT3</td>\n",
       "      <td>T</td>\n",
       "      <td>1</td>\n",
       "      <td>...</td>\n",
       "      <td>no</td>\n",
       "      <td>no</td>\n",
       "      <td>5</td>\n",
       "      <td>5</td>\n",
       "      <td>3</td>\n",
       "      <td>3</td>\n",
       "      <td>3</td>\n",
       "      <td>3</td>\n",
       "      <td>3</td>\n",
       "      <td>7</td>\n",
       "    </tr>\n",
       "    <tr>\n",
       "      <th>355</th>\n",
       "      <td>393</td>\n",
       "      <td>Benedita</td>\n",
       "      <td>Amaral</td>\n",
       "      <td>MS</td>\n",
       "      <td>M</td>\n",
       "      <td>18</td>\n",
       "      <td>R</td>\n",
       "      <td>LE3</td>\n",
       "      <td>T</td>\n",
       "      <td>3</td>\n",
       "      <td>...</td>\n",
       "      <td>yes</td>\n",
       "      <td>no</td>\n",
       "      <td>4</td>\n",
       "      <td>4</td>\n",
       "      <td>1</td>\n",
       "      <td>3</td>\n",
       "      <td>4</td>\n",
       "      <td>5</td>\n",
       "      <td>0</td>\n",
       "      <td>10</td>\n",
       "    </tr>\n",
       "    <tr>\n",
       "      <th>356</th>\n",
       "      <td>394</td>\n",
       "      <td>Lourenço</td>\n",
       "      <td>Luis</td>\n",
       "      <td>MS</td>\n",
       "      <td>M</td>\n",
       "      <td>19</td>\n",
       "      <td>U</td>\n",
       "      <td>LE3</td>\n",
       "      <td>T</td>\n",
       "      <td>1</td>\n",
       "      <td>...</td>\n",
       "      <td>yes</td>\n",
       "      <td>no</td>\n",
       "      <td>3</td>\n",
       "      <td>2</td>\n",
       "      <td>3</td>\n",
       "      <td>3</td>\n",
       "      <td>3</td>\n",
       "      <td>5</td>\n",
       "      <td>5</td>\n",
       "      <td>9</td>\n",
       "    </tr>\n",
       "  </tbody>\n",
       "</table>\n",
       "<p>357 rows × 34 columns</p>\n",
       "</div>"
      ],
      "text/plain": [
       "     StudentID FirstName FamilyName school sex  age address famsize Pstatus  \\\n",
       "0            0    Rafael     Morais     GP   F   18       U     GT3       A   \n",
       "1            1      Lara      Braga     GP   F   17       U     GT3       T   \n",
       "2            2   Gonçalo    Azevedo     GP   F   15       U     LE3       T   \n",
       "3            3      Lara      Perna     GP   F   15       U     GT3       T   \n",
       "4            4      João      Pires     GP   F   16       U     GT3       T   \n",
       "..         ...       ...        ...    ...  ..  ...     ...     ...     ...   \n",
       "352        390     Alice  Barcellos     MS   M   20       U     LE3       A   \n",
       "353        391   Rodrigo    Quintal     MS   M   17       U     LE3       T   \n",
       "354        392  Carolina       Hiza     MS   M   21       R     GT3       T   \n",
       "355        393  Benedita     Amaral     MS   M   18       R     LE3       T   \n",
       "356        394  Lourenço       Luis     MS   M   19       U     LE3       T   \n",
       "\n",
       "     Medu  ...  internet romantic famrel freetime goout  Dalc  Walc  health  \\\n",
       "0       4  ...        no       no      4        3     4     1     1       3   \n",
       "1       1  ...       yes       no      5        3     3     1     1       3   \n",
       "2       1  ...       yes       no      4        3     2     2     3       3   \n",
       "3       4  ...       yes      yes      3        2     2     1     1       5   \n",
       "4       3  ...        no       no      4        3     2     1     2       5   \n",
       "..    ...  ...       ...      ...    ...      ...   ...   ...   ...     ...   \n",
       "352     2  ...        no       no      5        5     4     4     5       4   \n",
       "353     3  ...       yes       no      2        4     5     3     4       2   \n",
       "354     1  ...        no       no      5        5     3     3     3       3   \n",
       "355     3  ...       yes       no      4        4     1     3     4       5   \n",
       "356     1  ...       yes       no      3        2     3     3     3       5   \n",
       "\n",
       "    absences FinalGrade  \n",
       "0          6          6  \n",
       "1          4          6  \n",
       "2         10         10  \n",
       "3          2         15  \n",
       "4          4         10  \n",
       "..       ...        ...  \n",
       "352       11          9  \n",
       "353        3         16  \n",
       "354        3          7  \n",
       "355        0         10  \n",
       "356        5          9  \n",
       "\n",
       "[357 rows x 34 columns]"
      ]
     },
     "execution_count": 218,
     "metadata": {},
     "output_type": "execute_result"
    }
   ],
   "source": [
    "df.drop_duplicates(\"StudentID\")"
   ]
  },
  {
   "cell_type": "code",
   "execution_count": 219,
   "id": "5b36cb82",
   "metadata": {},
   "outputs": [],
   "source": [
    "df['FullName'] = df['FirstName'] + ' ' + df['FamilyName']"
   ]
  },
  {
   "cell_type": "code",
   "execution_count": 220,
   "id": "0b80e51a",
   "metadata": {},
   "outputs": [
    {
     "data": {
      "image/png": "[encoded data removed]",
      "text/plain": [
       "<Figure size 432x288 with 1 Axes>"
      ]
     },
     "metadata": {
      "needs_background": "light"
     },
     "output_type": "display_data"
    }
   ],
   "source": [
    "# Distribution de la variable cible\n",
    "sns.histplot(df['FinalGrade'], bins=20, kde=True)\n",
    "plt.xlabel('Final Grade')\n",
    "plt.ylabel('Count')\n",
    "plt.title('Distribution of Final Grades')\n",
    "plt.show()"
   ]
  },
  {
   "cell_type": "code",
   "execution_count": 221,
   "id": "a64f1ac2",
   "metadata": {},
   "outputs": [
    {
     "data": {
      "image/png": "[encoded data removed]",
      "text/plain": [
       "<Figure size 720x720 with 2 Axes>"
      ]
     },
     "metadata": {
      "needs_background": "light"
     },
     "output_type": "display_data"
    }
   ],
   "source": [
    "# Matrice de corrélation\n",
    "correlation_matrix = df.corr()\n",
    "plt.figure(figsize=(10, 10))\n",
    "# Heatmap de la matrice de corrélation\n",
    "sns.heatmap(correlation_matrix, annot=True, cmap='coolwarm')\n",
    "plt.title('Correlation Matrix')\n",
    "plt.show()"
   ]
  },
  {
   "cell_type": "code",
   "execution_count": 222,
   "id": "76b4faba",
   "metadata": {},
   "outputs": [
    {
     "data": {
      "image/png": "[encoded data removed]",
      "text/plain": [
       "<Figure size 432x288 with 1 Axes>"
      ]
     },
     "metadata": {
      "needs_background": "light"
     },
     "output_type": "display_data"
    }
   ],
   "source": [
    "# Relation entre 'age' et 'FinalGrade'\n",
    "sns.scatterplot(x='age', y='FinalGrade', data=df)\n",
    "plt.xlabel('Age')\n",
    "plt.ylabel('Final Grade')\n",
    "plt.title('Relation between Age and Final Grade')\n",
    "plt.show()"
   ]
  },
  {
   "cell_type": "code",
   "execution_count": 223,
   "id": "a2c7ac58",
   "metadata": {},
   "outputs": [
    {
     "data": {
      "image/png": "[encoded data removed]",
      "text/plain": [
       "<Figure size 576x432 with 1 Axes>"
      ]
     },
     "metadata": {
      "needs_background": "light"
     },
     "output_type": "display_data"
    },
    {
     "name": "stdout",
     "output_type": "stream",
     "text": [
      "sex\n",
      "F    11.205405\n",
      "M    11.866279\n",
      "Name: FinalGrade, dtype: float64\n"
     ]
    }
   ],
   "source": [
    "# Boxplot pour visualiser la répartition de l'âge par genre\n",
    "plt.figure(figsize=(8, 6))\n",
    "sns.boxplot(x='sex', y='FinalGrade', data=df)\n",
    "plt.title('repartition of FinalGrade by sex')\n",
    "plt.xlabel('Sex')\n",
    "plt.ylabel('Final Grade')\n",
    "plt.show()\n",
    "\n",
    "# Calculer la moyenne de l'âge par genre\n",
    "mean_age_by_genre = df.groupby('sex')['FinalGrade'].mean()\n",
    "print(mean_age_by_genre)"
   ]
  },
  {
   "cell_type": "code",
   "execution_count": 224,
   "id": "34e55914",
   "metadata": {},
   "outputs": [],
   "source": [
    "# Sélectionner les colonnes numériques\n",
    "df_num = df.select_dtypes(include=['int64', 'float64'])\n",
    "\n",
    "# Sélectionner les colonnes de texte\n",
    "df_cat = df.select_dtypes(include=['object'])"
   ]
  },
  {
   "cell_type": "code",
   "execution_count": 225,
   "id": "22f651c1",
   "metadata": {},
   "outputs": [
    {
     "data": {
      "image/png": "[encoded data removed]",
      "text/plain": [
       "<Figure size 864x432 with 1 Axes>"
      ]
     },
     "metadata": {
      "needs_background": "light"
     },
     "output_type": "display_data"
    }
   ],
   "source": [
    "plt.figure(figsize=(12, 6))\n",
    "\n",
    "# Utilisez Seaborn pour créer des boxplots pour toutes les caractéristiques numériques\n",
    "sns.boxplot(data=df_num.drop(columns = 'StudentID'), orient='v')\n",
    "\n",
    "\n",
    "plt.xticks(rotation=45)\n",
    "\n",
    "plt.title('Boxplots des Caractéristiques Numériques')\n",
    "\n",
    "plt.show()"
   ]
  },
  {
   "cell_type": "markdown",
   "id": "11f615e1",
   "metadata": {},
   "source": [
    "### Création du score d'amélioration"
   ]
  },
  {
   "cell_type": "code",
   "execution_count": 226,
   "id": "8d287f6a",
   "metadata": {},
   "outputs": [],
   "source": [
    "# Sélectionnez les colonnes pertinentes pour le calcul du score\n",
    "selected_columns = ['studytime', 'goout', 'Dalc', 'Walc', 'absences']\n",
    "\n",
    "# Groupby par école et calculez les moyennes et les écart-types pour chaque colonne\n",
    "school_stats = df.groupby('school')[selected_columns].agg(['mean', 'std'])\n",
    "\n",
    "# Fonction pour standardiser une valeur en fonction de l'école et de la colonne\n",
    "def standardize_value(row, column_name):\n",
    "    school = row['school']\n",
    "    value = row[column_name]\n",
    "    mean = school_stats.loc[school, (column_name, 'mean')]\n",
    "    std = school_stats.loc[school, (column_name, 'std')]\n",
    "    if std == 0:\n",
    "        # Évitez une division par zéro si l'écart-type est de zéro\n",
    "        return 0\n",
    "    else:\n",
    "        return (value - mean) / std\n",
    "\n",
    "# Créez une nouvelle colonne 'StandardizedScore' qui est la somme des colonnes standardisées\n",
    "df['StandardizedScore'] = 0 \n",
    "for column in selected_columns:\n",
    "    if column != 'studytime':\n",
    "        df['StandardizedScore'] += df.apply(standardize_value, axis=1, args=(column,))\n",
    "    else:\n",
    "        df['StandardizedScore'] -= df.apply(standardize_value, axis=1, args=(column,))\n",
    "    "
   ]
  },
  {
   "cell_type": "code",
   "execution_count": 227,
   "id": "760e1724",
   "metadata": {},
   "outputs": [
    {
     "data": {
      "text/html": [
       "<div>\n",
       "<style scoped>\n",
       "    .dataframe tbody tr th:only-of-type {\n",
       "        vertical-align: middle;\n",
       "    }\n",
       "\n",
       "    .dataframe tbody tr th {\n",
       "        vertical-align: top;\n",
       "    }\n",
       "\n",
       "    .dataframe thead th {\n",
       "        text-align: right;\n",
       "    }\n",
       "</style>\n",
       "<table border=\"1\" class=\"dataframe\">\n",
       "  <thead>\n",
       "    <tr style=\"text-align: right;\">\n",
       "      <th></th>\n",
       "      <th>StudentID</th>\n",
       "      <th>FirstName</th>\n",
       "      <th>FamilyName</th>\n",
       "      <th>school</th>\n",
       "      <th>sex</th>\n",
       "      <th>age</th>\n",
       "      <th>address</th>\n",
       "      <th>famsize</th>\n",
       "      <th>Pstatus</th>\n",
       "      <th>Medu</th>\n",
       "      <th>...</th>\n",
       "      <th>famrel</th>\n",
       "      <th>freetime</th>\n",
       "      <th>goout</th>\n",
       "      <th>Dalc</th>\n",
       "      <th>Walc</th>\n",
       "      <th>health</th>\n",
       "      <th>absences</th>\n",
       "      <th>FinalGrade</th>\n",
       "      <th>FullName</th>\n",
       "      <th>StandardizedScore</th>\n",
       "    </tr>\n",
       "  </thead>\n",
       "  <tbody>\n",
       "    <tr>\n",
       "      <th>0</th>\n",
       "      <td>0</td>\n",
       "      <td>Rafael</td>\n",
       "      <td>Morais</td>\n",
       "      <td>GP</td>\n",
       "      <td>F</td>\n",
       "      <td>18</td>\n",
       "      <td>U</td>\n",
       "      <td>GT3</td>\n",
       "      <td>A</td>\n",
       "      <td>4</td>\n",
       "      <td>...</td>\n",
       "      <td>4</td>\n",
       "      <td>3</td>\n",
       "      <td>4</td>\n",
       "      <td>1</td>\n",
       "      <td>1</td>\n",
       "      <td>3</td>\n",
       "      <td>6</td>\n",
       "      <td>6</td>\n",
       "      <td>Rafael Morais</td>\n",
       "      <td>-0.655039</td>\n",
       "    </tr>\n",
       "    <tr>\n",
       "      <th>1</th>\n",
       "      <td>1</td>\n",
       "      <td>Lara</td>\n",
       "      <td>Braga</td>\n",
       "      <td>GP</td>\n",
       "      <td>F</td>\n",
       "      <td>17</td>\n",
       "      <td>U</td>\n",
       "      <td>GT3</td>\n",
       "      <td>T</td>\n",
       "      <td>1</td>\n",
       "      <td>...</td>\n",
       "      <td>5</td>\n",
       "      <td>3</td>\n",
       "      <td>3</td>\n",
       "      <td>1</td>\n",
       "      <td>1</td>\n",
       "      <td>3</td>\n",
       "      <td>4</td>\n",
       "      <td>6</td>\n",
       "      <td>Lara Braga</td>\n",
       "      <td>-1.792440</td>\n",
       "    </tr>\n",
       "    <tr>\n",
       "      <th>2</th>\n",
       "      <td>2</td>\n",
       "      <td>Gonçalo</td>\n",
       "      <td>Azevedo</td>\n",
       "      <td>GP</td>\n",
       "      <td>F</td>\n",
       "      <td>15</td>\n",
       "      <td>U</td>\n",
       "      <td>LE3</td>\n",
       "      <td>T</td>\n",
       "      <td>1</td>\n",
       "      <td>...</td>\n",
       "      <td>4</td>\n",
       "      <td>3</td>\n",
       "      <td>2</td>\n",
       "      <td>2</td>\n",
       "      <td>3</td>\n",
       "      <td>3</td>\n",
       "      <td>10</td>\n",
       "      <td>10</td>\n",
       "      <td>Gonçalo Azevedo</td>\n",
       "      <td>0.659621</td>\n",
       "    </tr>\n",
       "    <tr>\n",
       "      <th>3</th>\n",
       "      <td>3</td>\n",
       "      <td>Lara</td>\n",
       "      <td>Perna</td>\n",
       "      <td>GP</td>\n",
       "      <td>F</td>\n",
       "      <td>15</td>\n",
       "      <td>U</td>\n",
       "      <td>GT3</td>\n",
       "      <td>T</td>\n",
       "      <td>4</td>\n",
       "      <td>...</td>\n",
       "      <td>3</td>\n",
       "      <td>2</td>\n",
       "      <td>2</td>\n",
       "      <td>1</td>\n",
       "      <td>1</td>\n",
       "      <td>5</td>\n",
       "      <td>2</td>\n",
       "      <td>15</td>\n",
       "      <td>Lara Perna</td>\n",
       "      <td>-4.112589</td>\n",
       "    </tr>\n",
       "    <tr>\n",
       "      <th>4</th>\n",
       "      <td>4</td>\n",
       "      <td>João</td>\n",
       "      <td>Pires</td>\n",
       "      <td>GP</td>\n",
       "      <td>F</td>\n",
       "      <td>16</td>\n",
       "      <td>U</td>\n",
       "      <td>GT3</td>\n",
       "      <td>T</td>\n",
       "      <td>3</td>\n",
       "      <td>...</td>\n",
       "      <td>4</td>\n",
       "      <td>3</td>\n",
       "      <td>2</td>\n",
       "      <td>1</td>\n",
       "      <td>2</td>\n",
       "      <td>5</td>\n",
       "      <td>4</td>\n",
       "      <td>10</td>\n",
       "      <td>João Pires</td>\n",
       "      <td>-1.934342</td>\n",
       "    </tr>\n",
       "  </tbody>\n",
       "</table>\n",
       "<p>5 rows × 36 columns</p>\n",
       "</div>"
      ],
      "text/plain": [
       "   StudentID FirstName FamilyName school sex  age address famsize Pstatus  \\\n",
       "0          0    Rafael     Morais     GP   F   18       U     GT3       A   \n",
       "1          1      Lara      Braga     GP   F   17       U     GT3       T   \n",
       "2          2   Gonçalo    Azevedo     GP   F   15       U     LE3       T   \n",
       "3          3      Lara      Perna     GP   F   15       U     GT3       T   \n",
       "4          4      João      Pires     GP   F   16       U     GT3       T   \n",
       "\n",
       "   Medu  ...  famrel freetime goout Dalc Walc  health  absences  FinalGrade  \\\n",
       "0     4  ...       4        3     4    1    1       3         6           6   \n",
       "1     1  ...       5        3     3    1    1       3         4           6   \n",
       "2     1  ...       4        3     2    2    3       3        10          10   \n",
       "3     4  ...       3        2     2    1    1       5         2          15   \n",
       "4     3  ...       4        3     2    1    2       5         4          10   \n",
       "\n",
       "          FullName StandardizedScore  \n",
       "0    Rafael Morais         -0.655039  \n",
       "1       Lara Braga         -1.792440  \n",
       "2  Gonçalo Azevedo          0.659621  \n",
       "3       Lara Perna         -4.112589  \n",
       "4       João Pires         -1.934342  \n",
       "\n",
       "[5 rows x 36 columns]"
      ]
     },
     "execution_count": 227,
     "metadata": {},
     "output_type": "execute_result"
    }
   ],
   "source": [
    "df.head()"
   ]
  },
  {
   "cell_type": "code",
   "execution_count": 228,
   "id": "75573fc0",
   "metadata": {},
   "outputs": [],
   "source": [
    "column_to_scale = 'StandardizedScore'\n",
    "\n",
    "# Calculez les valeurs minimales et maximales de la colonne 'StandardizedScore' pour chaque école\n",
    "min_max_by_school = df.groupby('school')[column_to_scale].agg(['min', 'max'])\n",
    "\n",
    "# Fonction pour appliquer la mise à l'échelle Min-Max en fonction de l'école\n",
    "def minmax_scale_by_school(row):\n",
    "    school = row['school']\n",
    "    value = row[column_to_scale]\n",
    "    min_val = min_max_by_school.loc[school, 'min']\n",
    "    max_val = min_max_by_school.loc[school, 'max']\n",
    "    return (value - min_val) / (max_val - min_val)\n",
    "\n",
    "# Appliquez la fonction de mise à l'échelle Min-Max à la colonne 'StandardizedScore'\n",
    "df['ImprovableScore'] = df.apply(minmax_scale_by_school, axis=1)\n",
    "\n",
    "# La colonne 'ImprovableScore' contiendra maintenant les valeurs de 'StandardizedScore' mises à l'échelle Min-Max en fonction de l'école"
   ]
  },
  {
   "cell_type": "code",
   "execution_count": 229,
   "id": "c3d3ef02",
   "metadata": {},
   "outputs": [],
   "source": [
    "# Création d'une colonne indiquant les éléves à aider en priorité\n",
    "df['Priority'] = df.apply(lambda row: 'Yes' if (row['FinalGrade'] < 10) and (row['ImprovableScore'] > 0.6) else 'No', axis=1)"
   ]
  },
  {
   "cell_type": "code",
   "execution_count": 230,
   "id": "fb1b7da7",
   "metadata": {},
   "outputs": [],
   "source": [
    "df.drop(columns =['FirstName','FamilyName','StandardizedScore'],inplace=True)\n",
    "ordered_columns = ['StudentID','FullName']\n",
    "ordered_columns.extend(list(df.drop(columns =['StudentID','FullName']).columns))\n",
    "df = df[ordered_columns]"
   ]
  },
  {
   "cell_type": "code",
   "execution_count": 231,
   "id": "3995fe66",
   "metadata": {},
   "outputs": [
    {
     "data": {
      "text/html": [
       "<div>\n",
       "<style scoped>\n",
       "    .dataframe tbody tr th:only-of-type {\n",
       "        vertical-align: middle;\n",
       "    }\n",
       "\n",
       "    .dataframe tbody tr th {\n",
       "        vertical-align: top;\n",
       "    }\n",
       "\n",
       "    .dataframe thead th {\n",
       "        text-align: right;\n",
       "    }\n",
       "</style>\n",
       "<table border=\"1\" class=\"dataframe\">\n",
       "  <thead>\n",
       "    <tr style=\"text-align: right;\">\n",
       "      <th></th>\n",
       "      <th>StudentID</th>\n",
       "      <th>FullName</th>\n",
       "      <th>school</th>\n",
       "      <th>sex</th>\n",
       "      <th>age</th>\n",
       "      <th>address</th>\n",
       "      <th>famsize</th>\n",
       "      <th>Pstatus</th>\n",
       "      <th>Medu</th>\n",
       "      <th>Fedu</th>\n",
       "      <th>...</th>\n",
       "      <th>famrel</th>\n",
       "      <th>freetime</th>\n",
       "      <th>goout</th>\n",
       "      <th>Dalc</th>\n",
       "      <th>Walc</th>\n",
       "      <th>health</th>\n",
       "      <th>absences</th>\n",
       "      <th>FinalGrade</th>\n",
       "      <th>ImprovableScore</th>\n",
       "      <th>Priority</th>\n",
       "    </tr>\n",
       "  </thead>\n",
       "  <tbody>\n",
       "    <tr>\n",
       "      <th>0</th>\n",
       "      <td>0</td>\n",
       "      <td>Rafael Morais</td>\n",
       "      <td>GP</td>\n",
       "      <td>F</td>\n",
       "      <td>18</td>\n",
       "      <td>U</td>\n",
       "      <td>GT3</td>\n",
       "      <td>A</td>\n",
       "      <td>4</td>\n",
       "      <td>4</td>\n",
       "      <td>...</td>\n",
       "      <td>4</td>\n",
       "      <td>3</td>\n",
       "      <td>4</td>\n",
       "      <td>1</td>\n",
       "      <td>1</td>\n",
       "      <td>3</td>\n",
       "      <td>6</td>\n",
       "      <td>6</td>\n",
       "      <td>0.310564</td>\n",
       "      <td>No</td>\n",
       "    </tr>\n",
       "    <tr>\n",
       "      <th>1</th>\n",
       "      <td>1</td>\n",
       "      <td>Lara Braga</td>\n",
       "      <td>GP</td>\n",
       "      <td>F</td>\n",
       "      <td>17</td>\n",
       "      <td>U</td>\n",
       "      <td>GT3</td>\n",
       "      <td>T</td>\n",
       "      <td>1</td>\n",
       "      <td>1</td>\n",
       "      <td>...</td>\n",
       "      <td>5</td>\n",
       "      <td>3</td>\n",
       "      <td>3</td>\n",
       "      <td>1</td>\n",
       "      <td>1</td>\n",
       "      <td>3</td>\n",
       "      <td>4</td>\n",
       "      <td>6</td>\n",
       "      <td>0.238099</td>\n",
       "      <td>No</td>\n",
       "    </tr>\n",
       "    <tr>\n",
       "      <th>2</th>\n",
       "      <td>2</td>\n",
       "      <td>Gonçalo Azevedo</td>\n",
       "      <td>GP</td>\n",
       "      <td>F</td>\n",
       "      <td>15</td>\n",
       "      <td>U</td>\n",
       "      <td>LE3</td>\n",
       "      <td>T</td>\n",
       "      <td>1</td>\n",
       "      <td>1</td>\n",
       "      <td>...</td>\n",
       "      <td>4</td>\n",
       "      <td>3</td>\n",
       "      <td>2</td>\n",
       "      <td>2</td>\n",
       "      <td>3</td>\n",
       "      <td>3</td>\n",
       "      <td>10</td>\n",
       "      <td>10</td>\n",
       "      <td>0.394321</td>\n",
       "      <td>No</td>\n",
       "    </tr>\n",
       "    <tr>\n",
       "      <th>3</th>\n",
       "      <td>3</td>\n",
       "      <td>Lara Perna</td>\n",
       "      <td>GP</td>\n",
       "      <td>F</td>\n",
       "      <td>15</td>\n",
       "      <td>U</td>\n",
       "      <td>GT3</td>\n",
       "      <td>T</td>\n",
       "      <td>4</td>\n",
       "      <td>2</td>\n",
       "      <td>...</td>\n",
       "      <td>3</td>\n",
       "      <td>2</td>\n",
       "      <td>2</td>\n",
       "      <td>1</td>\n",
       "      <td>1</td>\n",
       "      <td>5</td>\n",
       "      <td>2</td>\n",
       "      <td>15</td>\n",
       "      <td>0.090282</td>\n",
       "      <td>No</td>\n",
       "    </tr>\n",
       "    <tr>\n",
       "      <th>4</th>\n",
       "      <td>4</td>\n",
       "      <td>João Pires</td>\n",
       "      <td>GP</td>\n",
       "      <td>F</td>\n",
       "      <td>16</td>\n",
       "      <td>U</td>\n",
       "      <td>GT3</td>\n",
       "      <td>T</td>\n",
       "      <td>3</td>\n",
       "      <td>3</td>\n",
       "      <td>...</td>\n",
       "      <td>4</td>\n",
       "      <td>3</td>\n",
       "      <td>2</td>\n",
       "      <td>1</td>\n",
       "      <td>2</td>\n",
       "      <td>5</td>\n",
       "      <td>4</td>\n",
       "      <td>10</td>\n",
       "      <td>0.229059</td>\n",
       "      <td>No</td>\n",
       "    </tr>\n",
       "  </tbody>\n",
       "</table>\n",
       "<p>5 rows × 35 columns</p>\n",
       "</div>"
      ],
      "text/plain": [
       "   StudentID         FullName school sex  age address famsize Pstatus  Medu  \\\n",
       "0          0    Rafael Morais     GP   F   18       U     GT3       A     4   \n",
       "1          1       Lara Braga     GP   F   17       U     GT3       T     1   \n",
       "2          2  Gonçalo Azevedo     GP   F   15       U     LE3       T     1   \n",
       "3          3       Lara Perna     GP   F   15       U     GT3       T     4   \n",
       "4          4       João Pires     GP   F   16       U     GT3       T     3   \n",
       "\n",
       "   Fedu  ... famrel freetime goout Dalc  Walc  health  absences FinalGrade  \\\n",
       "0     4  ...      4        3     4    1     1       3         6          6   \n",
       "1     1  ...      5        3     3    1     1       3         4          6   \n",
       "2     1  ...      4        3     2    2     3       3        10         10   \n",
       "3     2  ...      3        2     2    1     1       5         2         15   \n",
       "4     3  ...      4        3     2    1     2       5         4         10   \n",
       "\n",
       "  ImprovableScore Priority  \n",
       "0        0.310564       No  \n",
       "1        0.238099       No  \n",
       "2        0.394321       No  \n",
       "3        0.090282       No  \n",
       "4        0.229059       No  \n",
       "\n",
       "[5 rows x 35 columns]"
      ]
     },
     "execution_count": 231,
     "metadata": {},
     "output_type": "execute_result"
    }
   ],
   "source": [
    "df.head()"
   ]
  },
  {
   "cell_type": "code",
   "execution_count": 232,
   "id": "83fd6092",
   "metadata": {},
   "outputs": [],
   "source": [
    "df.to_csv('student_data_with_score.csv')"
   ]
  },
  {
   "cell_type": "code",
   "execution_count": 233,
   "id": "613d5a3e",
   "metadata": {},
   "outputs": [
    {
     "data": {
      "application/vnd.plotly.v1+json": {
       "config": {
        "plotlyServerURL": "https://plot.ly"
       },
       "data": [
        {
         "customdata": [
          [
           "Rafael Morais"
          ],
          [
           "Lara Braga"
          ],
          [
           "Gonçalo Azevedo"
          ],
          [
           "Lara Perna"
          ],
          [
           "João Pires"
          ],
          [
           "Rafael Alva"
          ],
          [
           "Afonso Da Luz"
          ],
          [
           "Guilherme Saraiva"
          ],
          [
           "Lucas Neves"
          ],
          [
           "Sofia Rocha"
          ],
          [
           "Rafael Sanches"
          ],
          [
           "Tiago Pais"
          ],
          [
           "Ana Camara"
          ],
          [
           "Salvador Coelho"
          ],
          [
           "Sofia Candido"
          ],
          [
           "João Raposo"
          ],
          [
           "Gustavo Janota"
          ],
          [
           "Lucas Formoso"
          ],
          [
           "Ana Marroquin"
          ],
          [
           "Lourenço Gale"
          ],
          [
           "Duarte Chao"
          ],
          [
           "Madalena Lacerda"
          ],
          [
           "Rafael Rodriques"
          ],
          [
           "Diana Carris"
          ],
          [
           "Francisco Eanes"
          ],
          [
           "Clara Mau"
          ],
          [
           "Mariana Baros"
          ],
          [
           "Martim Hilario"
          ],
          [
           "Santiago Barreto"
          ],
          [
           "Mariana Botelho"
          ],
          [
           "Dinis Formosa"
          ],
          [
           "Beatriz Figueira"
          ],
          [
           "Rafael Guardado"
          ],
          [
           "Francisca Marte"
          ],
          [
           "Tomás Alvares"
          ],
          [
           "Maria Alto"
          ],
          [
           "Santiago Caetano"
          ],
          [
           "Salvador De Melo"
          ],
          [
           "Martim De Julio"
          ],
          [
           "Benedita Nobriga"
          ],
          [
           "Santiago Lois"
          ],
          [
           "Miguel Almada"
          ],
          [
           "Rafael Martines"
          ],
          [
           "Gabriel Cotta"
          ],
          [
           "Duarte Penso"
          ],
          [
           "Ana De Moura"
          ],
          [
           "Tomás Fosco"
          ],
          [
           "Inês De Freitas"
          ],
          [
           "Clara Lias"
          ],
          [
           "Camila Cunha"
          ],
          [
           "Joana Araujo"
          ],
          [
           "Francisco De Mello"
          ],
          [
           "Dinis Simoes"
          ],
          [
           "Santiago Goncalves"
          ],
          [
           "Lara Basto"
          ],
          [
           "Salvador Peixoto"
          ],
          [
           "Salvador Da Cunha"
          ],
          [
           "Rafael Gandara"
          ],
          [
           "Rafael Maestre"
          ],
          [
           "Sofia Louro"
          ],
          [
           "Carolina Quadros"
          ],
          [
           "João Seda"
          ],
          [
           "Lourenço De Armas"
          ],
          [
           "Madalena Cavaco"
          ],
          [
           "Guilherme Serpa"
          ],
          [
           "Lara Madeiros"
          ],
          [
           "Alice Reposa"
          ],
          [
           "Mariana Primo"
          ],
          [
           "Leonor Armao"
          ],
          [
           "Lucas Sola"
          ],
          [
           "Santiago Danca"
          ],
          [
           "Francisca Diniz"
          ],
          [
           "Inês Martinho"
          ],
          [
           "Guilherme Freire"
          ],
          [
           "Dinis De Sousa"
          ],
          [
           "Sofia Pimental"
          ],
          [
           "Guilherme Moura"
          ],
          [
           "Beatriz Paulos"
          ],
          [
           "Gabriel De Barros"
          ],
          [
           "Matilde Ines"
          ],
          [
           "Lara Sardinha"
          ],
          [
           "Francisco Domingos"
          ],
          [
           "Clara Fidalgo"
          ],
          [
           "Guilherme Corado"
          ],
          [
           "Diana Da Rosa"
          ],
          [
           "Afonso Cacho"
          ],
          [
           "Gabriel Solorio"
          ],
          [
           "Lucas De Pina"
          ],
          [
           "Afonso Junior"
          ],
          [
           "Maria Marques"
          ],
          [
           "Francisca Magalhaes"
          ],
          [
           "Camila De Sa"
          ],
          [
           "Martim Neve"
          ],
          [
           "Lara Souza"
          ],
          [
           "João Amorim"
          ],
          [
           "Sofia Mateus"
          ],
          [
           "Inês Simas"
          ],
          [
           "Diana Damaso"
          ],
          [
           "Leonor Vara"
          ],
          [
           "Madalena Spinola"
          ],
          [
           "Madalena Matos"
          ],
          [
           "Mariana Soares"
          ],
          [
           "Beatriz Vala"
          ],
          [
           "Madalena Meneses"
          ],
          [
           "Lucas Saade"
          ],
          [
           "Gonçalo Fogo"
          ],
          [
           "Joana Raposa"
          ],
          [
           "Leonor Arvelo"
          ],
          [
           "Alice Lucio"
          ],
          [
           "Madalena Couto"
          ],
          [
           "Afonso Natal"
          ],
          [
           "Francisco Montalto"
          ],
          [
           "Pedro Monserrate"
          ],
          [
           "Beatriz Lapa"
          ],
          [
           "Clara Nazario"
          ],
          [
           "Clara Frausto"
          ],
          [
           "Guilherme Pereyra"
          ],
          [
           "Martim Portela"
          ],
          [
           "Duarte Resendes"
          ],
          [
           "Duarte Chavis"
          ],
          [
           "Rafael Sago"
          ],
          [
           "Gonçalo Duarte"
          ],
          [
           "Maria Montalvo"
          ],
          [
           "Camila Vas"
          ],
          [
           "João Sales"
          ],
          [
           "Clara Paes"
          ],
          [
           "Miguel Orta"
          ],
          [
           "Alice Reza"
          ],
          [
           "Afonso Alvarenga"
          ],
          [
           "Miguel Pinheiro"
          ],
          [
           "Guilherme Ferra"
          ],
          [
           "Benedita Faria"
          ],
          [
           "Sofia Serrao"
          ],
          [
           "Tomás Nicolau"
          ],
          [
           "Salvador Marcelo"
          ],
          [
           "Lara Cardoso"
          ],
          [
           "Martim Vasconcelos"
          ],
          [
           "Maria Fortes"
          ],
          [
           "Joana Espinola"
          ],
          [
           "Salvador Cuba"
          ],
          [
           "Maria Socia"
          ],
          [
           "Gonçalo Mattos"
          ],
          [
           "Rafael Peres"
          ],
          [
           "Lucas Prata"
          ],
          [
           "Pedro Fonte"
          ],
          [
           "Gonçalo Moreira"
          ],
          [
           "Rodrigo Miguez"
          ],
          [
           "Madalena Matheus"
          ],
          [
           "Duarte Monge"
          ],
          [
           "Francisca Constancio"
          ],
          [
           "Rodrigo Rapozo"
          ],
          [
           "Gustavo Agre"
          ],
          [
           "Tiago Pinto"
          ],
          [
           "Joana Mendes"
          ],
          [
           "Leonor Palma"
          ],
          [
           "Rafael Paiva"
          ],
          [
           "Diana Maia"
          ],
          [
           "Pedro Tavares"
          ],
          [
           "Afonso Pimenta"
          ],
          [
           "Joana Braz"
          ],
          [
           "Camila Lopes"
          ],
          [
           "Gustavo Fontes"
          ],
          [
           "Alice Evora"
          ],
          [
           "Ana Castelo"
          ],
          [
           "Alice Galioto"
          ],
          [
           "Gabriel Figueiredo"
          ],
          [
           "Clara Rodarte"
          ],
          [
           "Maria Limas"
          ],
          [
           "Santiago Dias"
          ],
          [
           "Alice Madeira"
          ],
          [
           "Gustavo Da Cruz"
          ],
          [
           "Lara Mirante"
          ],
          [
           "Lucas De Lacerda"
          ],
          [
           "Lucas Brasil"
          ],
          [
           "Leonor De Cotis"
          ],
          [
           "Lucas Mata"
          ],
          [
           "Francisca Fernandes"
          ],
          [
           "Madalena Da Rocha"
          ],
          [
           "Matilde Regalado"
          ],
          [
           "Clara Rezendes"
          ],
          [
           "Diana Sa"
          ],
          [
           "Pedro Avelar"
          ],
          [
           "Francisco Carreira"
          ],
          [
           "Camila Flor"
          ],
          [
           "Alice Macedo"
          ],
          [
           "Rafael Naves"
          ],
          [
           "Gonçalo Abreu"
          ],
          [
           "Gabriel Pombo"
          ],
          [
           "Salvador Joaquim"
          ],
          [
           "Gabriel Ruis"
          ],
          [
           "Joana Texeira"
          ],
          [
           "Margarida Belo"
          ],
          [
           "João Oliveira"
          ],
          [
           "Inês Ornelas"
          ],
          [
           "Mariana Reveles"
          ],
          [
           "João Souva"
          ],
          [
           "Sofia Aparicio"
          ],
          [
           "Francisca Linhares"
          ],
          [
           "João Rapa"
          ],
          [
           "Camila Souto"
          ],
          [
           "Duarte De Lima"
          ],
          [
           "Inês Caldeira"
          ],
          [
           "Madalena Cal"
          ],
          [
           "Clara Netto"
          ],
          [
           "Sofia Acosta"
          ],
          [
           "Mariana Maciel"
          ],
          [
           "Beatriz Cassis"
          ],
          [
           "Francisco Raposa"
          ],
          [
           "Lucas Anes"
          ],
          [
           "Francisco Migues"
          ],
          [
           "Carolina Pinho"
          ],
          [
           "Lucas Barboza"
          ],
          [
           "Inês Nunes"
          ],
          [
           "Guilherme Afonso"
          ],
          [
           "Martim Rama"
          ],
          [
           "Inês Broas"
          ],
          [
           "Rafael Osorio"
          ],
          [
           "Mariana Medeiros"
          ],
          [
           "Rafael Rodrigues"
          ],
          [
           "Mariana Porro"
          ],
          [
           "Margarida Motta"
          ],
          [
           "Afonso Furtado"
          ],
          [
           "Maria Farias"
          ],
          [
           "Francisco D’Souza"
          ],
          [
           "Beatriz De Souza"
          ],
          [
           "Camila Alves"
          ],
          [
           "Afonso Morgado"
          ],
          [
           "Salvador Mora"
          ],
          [
           "Laura Nolasco"
          ],
          [
           "Francisca Carreiro"
          ],
          [
           "Afonso Nora"
          ],
          [
           "Francisca Monteiro"
          ],
          [
           "Matilde Guedes"
          ],
          [
           "Gonçalo Claudio"
          ],
          [
           "Afonso Mauricio"
          ],
          [
           "Santiago Carrico"
          ],
          [
           "Rafael De Oliveira"
          ],
          [
           "Lara Dos Santos"
          ],
          [
           "Rodrigo Leite"
          ],
          [
           "Santiago Ribeiro"
          ],
          [
           "Margarida Conceicao"
          ],
          [
           "Martim Coval"
          ],
          [
           "Margarida Pero"
          ],
          [
           "Margarida Avilla"
          ],
          [
           "Matilde Sarmento"
          ],
          [
           "Martim Gama"
          ],
          [
           "Sofia Leitao"
          ],
          [
           "Inês Pimentel"
          ],
          [
           "Rafael Mello"
          ],
          [
           "Pedro Judice"
          ],
          [
           "Lucas Parreira"
          ],
          [
           "Inês Henriques"
          ],
          [
           "Pedro Antunes"
          ],
          [
           "Gustavo Deus"
          ],
          [
           "Francisco Mesquita"
          ],
          [
           "Francisca Camacho"
          ],
          [
           "Joana Melo"
          ],
          [
           "Madalena Graca"
          ],
          [
           "Mariana Esteves"
          ],
          [
           "Rafael Rego"
          ],
          [
           "Madalena Teves"
          ],
          [
           "Gustavo Correia"
          ],
          [
           "Tiago Ramires"
          ],
          [
           "Salvador Barbas"
          ],
          [
           "Benedita Enes"
          ],
          [
           "Diana Curro"
          ],
          [
           "Tiago Mangual"
          ],
          [
           "Pedro Gouveia"
          ],
          [
           "Dinis Paula"
          ],
          [
           "Joana Jeronimo"
          ],
          [
           "João Fiel"
          ],
          [
           "Clara Monterroso"
          ],
          [
           "Alice Montez"
          ],
          [
           "Diana Loureiro"
          ],
          [
           "Dinis Domingues"
          ],
          [
           "Camila Dorta"
          ],
          [
           "Matilde Perreira"
          ],
          [
           "Francisco Parente"
          ],
          [
           "Lara Caravalho"
          ],
          [
           "Alice Cordeiro"
          ],
          [
           "Sofia Nascimento"
          ],
          [
           "Laura Barbosa"
          ],
          [
           "Lucas Brandao"
          ],
          [
           "Madalena Borba"
          ],
          [
           "Carolina Ennes"
          ],
          [
           "Gustavo Avila"
          ],
          [
           "Rafael Espindola"
          ],
          [
           "Francisca Ramos"
          ],
          [
           "Leonor Reis"
          ],
          [
           "Duarte Martins"
          ],
          [
           "Matilde Nobrega"
          ],
          [
           "Mariana Bomba"
          ],
          [
           "Maria Rebelo"
          ],
          [
           "Lara Sampaio"
          ],
          [
           "Martim Sabina"
          ],
          [
           "Mariana Garro"
          ],
          [
           "Benedita Gomes"
          ],
          [
           "Afonso Pereira"
          ],
          [
           "Joana Novo"
          ],
          [
           "Matilde Ornellas"
          ],
          [
           "Laura Bento"
          ],
          [
           "Lara Neto"
          ],
          [
           "Matilde Fagundes"
          ],
          [
           "Dinis Po"
          ],
          [
           "Miguel Carias"
          ],
          [
           "Francisca Lomba"
          ],
          [
           "Afonso Bastos"
          ],
          [
           "Madalena Lessa"
          ],
          [
           "Mariana Mina"
          ],
          [
           "Salvador Narciso"
          ],
          [
           "Rafael Pestana"
          ],
          [
           "Guilherme Festa"
          ],
          [
           "Pedro Moniz"
          ],
          [
           "Duarte Paulino"
          ],
          [
           "Rodrigo Guerreiro"
          ],
          [
           "Madalena Troia"
          ],
          [
           "Joana Ramires"
          ],
          [
           "Tiago De Lemos"
          ],
          [
           "Lucas Paulo"
          ],
          [
           "Salvador Chaves"
          ],
          [
           "Madalena Rosa"
          ],
          [
           "Madalena Quintela"
          ],
          [
           "Gonçalo Goes"
          ],
          [
           "Tomás Brito"
          ],
          [
           "Gonçalo Gaia"
          ],
          [
           "Santiago Alvernaz"
          ],
          [
           "Rafael Mendonca"
          ],
          [
           "Benedita Lourenco"
          ],
          [
           "Francisco Almeida"
          ],
          [
           "Lourenço Farinha"
          ],
          [
           "Tomás Teixeira"
          ],
          [
           "Rodrigo Quintal"
          ],
          [
           "Carolina Hiza"
          ],
          [
           "Benedita Amaral"
          ],
          [
           "Lourenço Luis"
          ]
         ],
         "hovertemplate": "Priority=No<br>FinalGrade=%{x}<br>ImprovableScore=%{y}<br>FullName=%{customdata[0]}<extra></extra>",
         "legendgroup": "No",
         "marker": {
          "color": "blue",
          "symbol": "circle"
         },
         "mode": "markers",
         "name": "No",
         "orientation": "v",
         "showlegend": true,
         "type": "scatter",
         "x": [
          6,
          6,
          10,
          15,
          10,
          15,
          11,
          6,
          19,
          15,
          9,
          12,
          14,
          11,
          16,
          14,
          14,
          10,
          10,
          15,
          15,
          16,
          12,
          8,
          8,
          11,
          15,
          11,
          11,
          12,
          17,
          16,
          12,
          15,
          6,
          18,
          15,
          11,
          13,
          11,
          12,
          18,
          11,
          9,
          6,
          11,
          20,
          14,
          7,
          13,
          13,
          10,
          11,
          13,
          10,
          15,
          15,
          9,
          16,
          11,
          11,
          9,
          9,
          10,
          15,
          12,
          6,
          8,
          16,
          15,
          10,
          5,
          14,
          11,
          10,
          10,
          11,
          10,
          5,
          12,
          11,
          6,
          15,
          10,
          8,
          6,
          14,
          10,
          8,
          18,
          6,
          10,
          14,
          10,
          15,
          10,
          14,
          8,
          17,
          14,
          6,
          18,
          11,
          8,
          18,
          13,
          16,
          19,
          10,
          13,
          19,
          9,
          16,
          14,
          13,
          8,
          13,
          15,
          15,
          13,
          13,
          8,
          12,
          11,
          9,
          18,
          12,
          11,
          12,
          15,
          9,
          11,
          13,
          11,
          11,
          10,
          14,
          10,
          12,
          8,
          13,
          10,
          15,
          12,
          7,
          10,
          7,
          12,
          10,
          16,
          14,
          16,
          10,
          9,
          11,
          6,
          11,
          8,
          12,
          17,
          12,
          11,
          11,
          15,
          9,
          10,
          13,
          9,
          10,
          14,
          15,
          16,
          10,
          18,
          10,
          16,
          10,
          10,
          6,
          11,
          7,
          13,
          10,
          7,
          8,
          13,
          14,
          8,
          10,
          15,
          8,
          8,
          10,
          6,
          17,
          13,
          14,
          7,
          15,
          12,
          12,
          14,
          11,
          9,
          13,
          6,
          10,
          13,
          12,
          11,
          12,
          12,
          12,
          18,
          13,
          5,
          15,
          10,
          8,
          12,
          8,
          13,
          11,
          14,
          18,
          8,
          12,
          9,
          17,
          10,
          11,
          10,
          14,
          11,
          14,
          10,
          12,
          8,
          10,
          10,
          12,
          10,
          11,
          11,
          19,
          12,
          14,
          15,
          11,
          15,
          13,
          18,
          14,
          11,
          8,
          14,
          16,
          11,
          10,
          14,
          18,
          13,
          12,
          18,
          12,
          10,
          13,
          11,
          11,
          13,
          11,
          9,
          10,
          11,
          13,
          9,
          11,
          15,
          15,
          11,
          16,
          10,
          9,
          14,
          8,
          14,
          15,
          13,
          17,
          10,
          11,
          15,
          10,
          14,
          16,
          9,
          15,
          13,
          8,
          13,
          8,
          11,
          9,
          13,
          11,
          10,
          16,
          13,
          12,
          10,
          15,
          12,
          10,
          13,
          10,
          11,
          9,
          12,
          11,
          19,
          10,
          15,
          10,
          15,
          10,
          14,
          7,
          10,
          10,
          6,
          8,
          16,
          7,
          10,
          9
         ],
         "xaxis": "x",
         "y": [
          0.31056370752185897,
          0.23809948157413516,
          0.3943211526708864,
          0.09028202051942577,
          0.22905887399014827,
          0.2738452302274686,
          0.26577735128453867,
          0.31056370752185897,
          0.15070647021397132,
          0.09317102967868762,
          0.2567367437005518,
          0.10521080593186584,
          0.39551359717127427,
          0.27166552911299185,
          0.07535323510698566,
          0.4194829901677013,
          0.2261698648308864,
          0.1805640410388515,
          0.41044238258371435,
          0.09317102967868762,
          0.22605970532095696,
          0.20508948099372123,
          0.48324293963055004,
          0.09028202051942577,
          0.4275508691106312,
          0.2894833236846938,
          0.5884537455624159,
          0.23809948157413516,
          0.9246467648930145,
          0.4401531480521037,
          0.09317102967868762,
          0.15070647021397132,
          0.15070647021397132,
          0.2835951458562407,
          0.16852426478567328,
          0.14781746105470947,
          0.1851394245858097,
          0.09028202051942577,
          0.22823940643543367,
          0.443346561356053,
          0.5607758758520125,
          0.2231706961616951,
          0.16852426478567328,
          0.4332193310797535,
          0.2104216118637317,
          0.5583700031483533,
          0.029857570824880213,
          0.3436466186051129,
          0.28070613669697875,
          0.39214145155640967,
          0.2231706961616951,
          0.7328990610022609,
          0.5101013417862389,
          0.7473447099590981,
          0.3254924929342991,
          0.15070647021397132,
          0.1805640410388515,
          0.16563525562641143,
          0.2231706961616951,
          0.47953446291657353,
          0.9253560729377995,
          0.23809948157413516,
          0.4228184899360045,
          0.48324293963055004,
          0.27166552911299185,
          0.5692967011338351,
          0.13588784431146061,
          0.3201603620642886,
          0.25854346786935517,
          0,
          0.05753544053528369,
          0.4981717250429902,
          0.3614644131768149,
          0.828784705231149,
          0.4219990223812899,
          0.1172505821850441,
          0.15452510643787723,
          0.1834530501981134,
          0.3463094561751923,
          0.33797815663599057,
          0.15370563888316258,
          0.3404212783467392,
          0.33508914747672874,
          0.33460601102112597,
          0.47953446291657353,
          0.34412975506071564,
          0.2597359123697431,
          0.2402791826886119,
          0.2298783415448629,
          0.5255132636542817,
          0.40707023696884975,
          0.208241910749255,
          0.15985723730788767,
          0.014928785412440106,
          0.2985239312686807,
          0.33824157723226245,
          0.4344117755801414,
          0.2479595567128367,
          0.13288867564226936,
          0.31345271668112085,
          0.5173870021815437,
          0.26577735128453867,
          0.13217936759748417,
          0.05971514164976037,
          0.14781746105470947,
          0.5553341886326006,
          0.2778171275377169,
          0.32838150209356093,
          0.07535323510698566,
          0.1954928264512916,
          0.30070363238315745,
          0.2104216118637317,
          0.32920096964827555,
          0.2231706961616951,
          0.22605970532095696,
          0.5605497042628299,
          0.3768763350448577,
          0.27166552911299185,
          0.20835207025918442,
          0.21413008857770816,
          0.6209741539573757,
          0.26577735128453867,
          0.5911230388623469,
          0.15070647021397132,
          0.16563525562641143,
          0.7243415898738765,
          0.5276929647687585,
          0.43343904693908436,
          0.3627670171871322,
          0.22605970532095696,
          0.4637862099494188,
          0.09028202051942577,
          0.5970112166908,
          0.19920130316526807,
          0.16563525562641143,
          0.6646264482241161,
          0.7238584534182739,
          0.24650369161617694,
          0.16852426478567328,
          0.28070613669697875,
          0.5267266918575529,
          0.6374317149693154,
          0.2894833236846938,
          0.714598129974956,
          0.4560482063757493,
          0.4440084301225711,
          0.5172921236250094,
          0.3454899886204777,
          0.570635950990714,
          0.208241910749255,
          0.15070647021397132,
          0.16563525562641143,
          0.3627670171871322,
          0.3531703626447026,
          0.42619063555086906,
          0.4411194209633092,
          0.23809948157413516,
          0.4518565932061701,
          0.27166552911299185,
          0.3196772256086859,
          0.30370280105234876,
          0.524320819153894,
          0.3470187642199775,
          0.2567367437005518,
          0.3500179328891688,
          0.43207881337932225,
          0.2828858378114555,
          0.208241910749255,
          0.5752215248088497,
          0.2835951458562407,
          0.15070647021397132,
          0.36194754963241765,
          0.738787238830714,
          0.6892467667355201,
          0.19920130316526807,
          0.5322209090374496,
          0.3500179328891688,
          0.3926245880120124,
          0.40891360698421464,
          0.21739267784317137,
          0.36603979672377307,
          0.2253503972761718,
          0.4163305604121676,
          0.12013959134430595,
          0.18067420054878092,
          0.8302724972822333,
          0.26577735128453867,
          0.5952088302238507,
          0.3065918102116106,
          0.3776958025995723,
          0.5802800448114107,
          0.4514728228287911,
          0.16274624646714955,
          0.38673641018355925,
          0.10809981509112773,
          0.6901456005229263,
          0.07535323510698566,
          0.32767219404877573,
          0.4374109442493327,
          0.3201603620642886,
          0.25602743565576663,
          0.36123824158763246,
          0.1805640410388515,
          0.5248039556094966,
          0.4981717250429902,
          0.2850655389259322,
          0.3045222686070634,
          0.6624677308125229,
          0.3753475594453579,
          0.10809981509112773,
          0.5732987885607934,
          0.39214145155640967,
          0.27455453827225373,
          0.32838150209356093,
          0.25591727614583715,
          0.3649467183016089,
          0.4435252936669683,
          0.3500179328891688,
          0.32304937122355054,
          0.4435252936669683,
          0.4045542047552612,
          0.10232179677260399,
          0.1827437421533282,
          0.3739873258855958,
          0.4044483829471859,
          0.16563525562641143,
          0.08281762781320569,
          0.16274624646714955,
          0.7097965748388154,
          0.5701528145351111,
          0.44596841537771686,
          0.49494638478461644,
          0.2994535583333248,
          0.2231706961616951,
          0.2861111780698292,
          0.2231706961616951,
          0.47953446291657353,
          0.3777432418778394,
          0.39180512045729776,
          0.7724007256478377,
          0.0074643927062200245,
          0.2956349221094189,
          0.40166519559599934,
          0.27166552911299185,
          0.21870547212466637,
          0.17767503187958963,
          0.33220013831746686,
          0.2754214451052354,
          0.37829928883628217,
          0.1238480680582824,
          0.29781462322389557,
          0.04478635623732032,
          0.13506837675674604,
          0.41044238258371435,
          0.44645155183331964,
          0.05753544053528369,
          0.38385759129547503,
          0.37027884917161935,
          0.2890001872290911,
          0.13288867564226936,
          0.048494832951296744,
          0.41506520540893965,
          0.2679570523990154,
          0.2835951458562407,
          0.2567367437005518,
          0.43959064536380943,
          0.2424588838030886,
          0.29357557077604923,
          0.3634179427021092,
          0.17985473299406635,
          0.37392894335578764,
          0.25760365053353346,
          0.45638453747486113,
          0.5216579815838145,
          0.3708823354083292,
          0.2402791826886119,
          0.21822233566906363,
          0.309323823743204,
          0.30185943103698387,
          0.27575777620434727,
          0.7590007158348974,
          0.9402848583502397,
          0.3396645310236869,
          0.2112410794184463,
          0.40500069536430255,
          0.1851394245858097,
          0.46437950591495103,
          0.27095622106820666,
          0.10978618947882404,
          0.40707023696884975,
          0.3172713529050267,
          0.38733989642026906,
          0.2112410794184463,
          0.35411017998052424,
          0.19102760241426286,
          0.41693031210755127,
          0.2298783415448629,
          1,
          0.5786200430679244,
          0.4302135095730942,
          0.5305265864650134,
          0.4690091989893898,
          0.227468762383779,
          0.2771706037468353,
          0.24720846697155818,
          0.3025783387005618,
          0,
          0.39886249325133777,
          0.3628598337630766,
          0.20702389800878318,
          0.227468762383779,
          0.14989265438626362,
          0.5173068899708908,
          0.11565136679151851,
          0.3100077409600251,
          0.4752637077696457,
          0.15268568431429816,
          0.4706023129144592,
          0.18720222291112576,
          0.13470735162003503,
          0.08709338039779668,
          0.12727794936057166,
          0.5084733373298722,
          0.2172463301962811,
          0.6549295353876722,
          0.45878676680189195,
          0.4420443265207374,
          0.1900772233490386,
          0.21157829983033372,
          0.4733953428424938,
          0.227468762383779,
          0.7209610313260127,
          0.5291224360834581,
          0.4066031229230271,
          0.5590845728587351
         ],
         "yaxis": "y"
        },
        {
         "customdata": [
          [
           "Guilherme Ruelas"
          ],
          [
           "Miguel Chico"
          ],
          [
           "Lucas Marcelino"
          ],
          [
           "Lucas Peru"
          ],
          [
           "Sofia Porto"
          ],
          [
           "Alice Pesqueira"
          ],
          [
           "Lourenço Simao"
          ],
          [
           "Joana Ponte"
          ],
          [
           "Clara Merenda"
          ],
          [
           "Laura Sousa"
          ],
          [
           "Guilherme Estacio"
          ],
          [
           "Madalena Criado"
          ],
          [
           "Tomás Santa"
          ],
          [
           "Martim Franca"
          ],
          [
           "Camila Carvalho"
          ],
          [
           "Lourenço Muniz"
          ],
          [
           "Dinis Costa"
          ],
          [
           "Dinis Prior"
          ],
          [
           "Sofia Nogueira"
          ],
          [
           "Lara Luiz"
          ],
          [
           "Maria Pontes"
          ],
          [
           "Alice Barcellos"
          ]
         ],
         "hovertemplate": "Priority=Yes<br>FinalGrade=%{x}<br>ImprovableScore=%{y}<br>FullName=%{customdata[0]}<extra></extra>",
         "legendgroup": "Yes",
         "marker": {
          "color": "red",
          "symbol": "circle"
         },
         "mode": "markers",
         "name": "Yes",
         "orientation": "v",
         "showlegend": true,
         "type": "scatter",
         "x": [
          5,
          7,
          5,
          9,
          9,
          8,
          8,
          9,
          4,
          9,
          8,
          8,
          8,
          9,
          9,
          9,
          8,
          8,
          8,
          5,
          5,
          9
         ],
         "xaxis": "x",
         "y": [
          0.7355618985723401,
          0.6805424902506451,
          0.98507121458756,
          0.6570626894396723,
          0.6476857507565735,
          0.7952186576922924,
          0.7652726640407295,
          0.6313383492545631,
          0.7049950197026749,
          0.6651305683826022,
          1,
          0.6161316152728195,
          0.6944840190489964,
          0.6762305272999588,
          0.6530004826451914,
          0.6508317247822557,
          0.7825279559241372,
          0.6247775092278863,
          0.6114571802811142,
          0.7115812936295194,
          0.752434311516481,
          0.7963458586448781
         ],
         "yaxis": "y"
        }
       ],
       "layout": {
        "legend": {
         "title": {
          "text": "Priority"
         },
         "tracegroupgap": 0
        },
        "template": {
         "data": {
          "bar": [
           {
            "error_x": {
             "color": "#2a3f5f"
            },
            "error_y": {
             "color": "#2a3f5f"
            },
            "marker": {
             "line": {
              "color": "#E5ECF6",
              "width": 0.5
             },
             "pattern": {
              "fillmode": "overlay",
              "size": 10,
              "solidity": 0.2
             }
            },
            "type": "bar"
           }
          ],
          "barpolar": [
           {
            "marker": {
             "line": {
              "color": "#E5ECF6",
              "width": 0.5
             },
             "pattern": {
              "fillmode": "overlay",
              "size": 10,
              "solidity": 0.2
             }
            },
            "type": "barpolar"
           }
          ],
          "carpet": [
           {
            "aaxis": {
             "endlinecolor": "#2a3f5f",
             "gridcolor": "white",
             "linecolor": "white",
             "minorgridcolor": "white",
             "startlinecolor": "#2a3f5f"
            },
            "baxis": {
             "endlinecolor": "#2a3f5f",
             "gridcolor": "white",
             "linecolor": "white",
             "minorgridcolor": "white",
             "startlinecolor": "#2a3f5f"
            },
            "type": "carpet"
           }
          ],
          "choropleth": [
           {
            "colorbar": {
             "outlinewidth": 0,
             "ticks": ""
            },
            "type": "choropleth"
           }
          ],
          "contour": [
           {
            "colorbar": {
             "outlinewidth": 0,
             "ticks": ""
            },
            "colorscale": [
             [
              0,
              "#0d0887"
             ],
             [
              0.1111111111111111,
              "#46039f"
             ],
             [
              0.2222222222222222,
              "#7201a8"
             ],
             [
              0.3333333333333333,
              "#9c179e"
             ],
             [
              0.4444444444444444,
              "#bd3786"
             ],
             [
              0.5555555555555556,
              "#d8576b"
             ],
             [
              0.6666666666666666,
              "#ed7953"
             ],
             [
              0.7777777777777778,
              "#fb9f3a"
             ],
             [
              0.8888888888888888,
              "#fdca26"
             ],
             [
              1,
              "#f0f921"
             ]
            ],
            "type": "contour"
           }
          ],
          "contourcarpet": [
           {
            "colorbar": {
             "outlinewidth": 0,
             "ticks": ""
            },
            "type": "contourcarpet"
           }
          ],
          "heatmap": [
           {
            "colorbar": {
             "outlinewidth": 0,
             "ticks": ""
            },
            "colorscale": [
             [
              0,
              "#0d0887"
             ],
             [
              0.1111111111111111,
              "#46039f"
             ],
             [
              0.2222222222222222,
              "#7201a8"
             ],
             [
              0.3333333333333333,
              "#9c179e"
             ],
             [
              0.4444444444444444,
              "#bd3786"
             ],
             [
              0.5555555555555556,
              "#d8576b"
             ],
             [
              0.6666666666666666,
              "#ed7953"
             ],
             [
              0.7777777777777778,
              "#fb9f3a"
             ],
             [
              0.8888888888888888,
              "#fdca26"
             ],
             [
              1,
              "#f0f921"
             ]
            ],
            "type": "heatmap"
           }
          ],
          "heatmapgl": [
           {
            "colorbar": {
             "outlinewidth": 0,
             "ticks": ""
            },
            "colorscale": [
             [
              0,
              "#0d0887"
             ],
             [
              0.1111111111111111,
              "#46039f"
             ],
             [
              0.2222222222222222,
              "#7201a8"
             ],
             [
              0.3333333333333333,
              "#9c179e"
             ],
             [
              0.4444444444444444,
              "#bd3786"
             ],
             [
              0.5555555555555556,
              "#d8576b"
             ],
             [
              0.6666666666666666,
              "#ed7953"
             ],
             [
              0.7777777777777778,
              "#fb9f3a"
             ],
             [
              0.8888888888888888,
              "#fdca26"
             ],
             [
              1,
              "#f0f921"
             ]
            ],
            "type": "heatmapgl"
           }
          ],
          "histogram": [
           {
            "marker": {
             "pattern": {
              "fillmode": "overlay",
              "size": 10,
              "solidity": 0.2
             }
            },
            "type": "histogram"
           }
          ],
          "histogram2d": [
           {
            "colorbar": {
             "outlinewidth": 0,
             "ticks": ""
            },
            "colorscale": [
             [
              0,
              "#0d0887"
             ],
             [
              0.1111111111111111,
              "#46039f"
             ],
             [
              0.2222222222222222,
              "#7201a8"
             ],
             [
              0.3333333333333333,
              "#9c179e"
             ],
             [
              0.4444444444444444,
              "#bd3786"
             ],
             [
              0.5555555555555556,
              "#d8576b"
             ],
             [
              0.6666666666666666,
              "#ed7953"
             ],
             [
              0.7777777777777778,
              "#fb9f3a"
             ],
             [
              0.8888888888888888,
              "#fdca26"
             ],
             [
              1,
              "#f0f921"
             ]
            ],
            "type": "histogram2d"
           }
          ],
          "histogram2dcontour": [
           {
            "colorbar": {
             "outlinewidth": 0,
             "ticks": ""
            },
            "colorscale": [
             [
              0,
              "#0d0887"
             ],
             [
              0.1111111111111111,
              "#46039f"
             ],
             [
              0.2222222222222222,
              "#7201a8"
             ],
             [
              0.3333333333333333,
              "#9c179e"
             ],
             [
              0.4444444444444444,
              "#bd3786"
             ],
             [
              0.5555555555555556,
              "#d8576b"
             ],
             [
              0.6666666666666666,
              "#ed7953"
             ],
             [
              0.7777777777777778,
              "#fb9f3a"
             ],
             [
              0.8888888888888888,
              "#fdca26"
             ],
             [
              1,
              "#f0f921"
             ]
            ],
            "type": "histogram2dcontour"
           }
          ],
          "mesh3d": [
           {
            "colorbar": {
             "outlinewidth": 0,
             "ticks": ""
            },
            "type": "mesh3d"
           }
          ],
          "parcoords": [
           {
            "line": {
             "colorbar": {
              "outlinewidth": 0,
              "ticks": ""
             }
            },
            "type": "parcoords"
           }
          ],
          "pie": [
           {
            "automargin": true,
            "type": "pie"
           }
          ],
          "scatter": [
           {
            "fillpattern": {
             "fillmode": "overlay",
             "size": 10,
             "solidity": 0.2
            },
            "type": "scatter"
           }
          ],
          "scatter3d": [
           {
            "line": {
             "colorbar": {
              "outlinewidth": 0,
              "ticks": ""
             }
            },
            "marker": {
             "colorbar": {
              "outlinewidth": 0,
              "ticks": ""
             }
            },
            "type": "scatter3d"
           }
          ],
          "scattercarpet": [
           {
            "marker": {
             "colorbar": {
              "outlinewidth": 0,
              "ticks": ""
             }
            },
            "type": "scattercarpet"
           }
          ],
          "scattergeo": [
           {
            "marker": {
             "colorbar": {
              "outlinewidth": 0,
              "ticks": ""
             }
            },
            "type": "scattergeo"
           }
          ],
          "scattergl": [
           {
            "marker": {
             "colorbar": {
              "outlinewidth": 0,
              "ticks": ""
             }
            },
            "type": "scattergl"
           }
          ],
          "scattermapbox": [
           {
            "marker": {
             "colorbar": {
              "outlinewidth": 0,
              "ticks": ""
             }
            },
            "type": "scattermapbox"
           }
          ],
          "scatterpolar": [
           {
            "marker": {
             "colorbar": {
              "outlinewidth": 0,
              "ticks": ""
             }
            },
            "type": "scatterpolar"
           }
          ],
          "scatterpolargl": [
           {
            "marker": {
             "colorbar": {
              "outlinewidth": 0,
              "ticks": ""
             }
            },
            "type": "scatterpolargl"
           }
          ],
          "scatterternary": [
           {
            "marker": {
             "colorbar": {
              "outlinewidth": 0,
              "ticks": ""
             }
            },
            "type": "scatterternary"
           }
          ],
          "surface": [
           {
            "colorbar": {
             "outlinewidth": 0,
             "ticks": ""
            },
            "colorscale": [
             [
              0,
              "#0d0887"
             ],
             [
              0.1111111111111111,
              "#46039f"
             ],
             [
              0.2222222222222222,
              "#7201a8"
             ],
             [
              0.3333333333333333,
              "#9c179e"
             ],
             [
              0.4444444444444444,
              "#bd3786"
             ],
             [
              0.5555555555555556,
              "#d8576b"
             ],
             [
              0.6666666666666666,
              "#ed7953"
             ],
             [
              0.7777777777777778,
              "#fb9f3a"
             ],
             [
              0.8888888888888888,
              "#fdca26"
             ],
             [
              1,
              "#f0f921"
             ]
            ],
            "type": "surface"
           }
          ],
          "table": [
           {
            "cells": {
             "fill": {
              "color": "#EBF0F8"
             },
             "line": {
              "color": "white"
             }
            },
            "header": {
             "fill": {
              "color": "#C8D4E3"
             },
             "line": {
              "color": "white"
             }
            },
            "type": "table"
           }
          ]
         },
         "layout": {
          "annotationdefaults": {
           "arrowcolor": "#2a3f5f",
           "arrowhead": 0,
           "arrowwidth": 1
          },
          "autotypenumbers": "strict",
          "coloraxis": {
           "colorbar": {
            "outlinewidth": 0,
            "ticks": ""
           }
          },
          "colorscale": {
           "diverging": [
            [
             0,
             "#8e0152"
            ],
            [
             0.1,
             "#c51b7d"
            ],
            [
             0.2,
             "#de77ae"
            ],
            [
             0.3,
             "#f1b6da"
            ],
            [
             0.4,
             "#fde0ef"
            ],
            [
             0.5,
             "#f7f7f7"
            ],
            [
             0.6,
             "#e6f5d0"
            ],
            [
             0.7,
             "#b8e186"
            ],
            [
             0.8,
             "#7fbc41"
            ],
            [
             0.9,
             "#4d9221"
            ],
            [
             1,
             "#276419"
            ]
           ],
           "sequential": [
            [
             0,
             "#0d0887"
            ],
            [
             0.1111111111111111,
             "#46039f"
            ],
            [
             0.2222222222222222,
             "#7201a8"
            ],
            [
             0.3333333333333333,
             "#9c179e"
            ],
            [
             0.4444444444444444,
             "#bd3786"
            ],
            [
             0.5555555555555556,
             "#d8576b"
            ],
            [
             0.6666666666666666,
             "#ed7953"
            ],
            [
             0.7777777777777778,
             "#fb9f3a"
            ],
            [
             0.8888888888888888,
             "#fdca26"
            ],
            [
             1,
             "#f0f921"
            ]
           ],
           "sequentialminus": [
            [
             0,
             "#0d0887"
            ],
            [
             0.1111111111111111,
             "#46039f"
            ],
            [
             0.2222222222222222,
             "#7201a8"
            ],
            [
             0.3333333333333333,
             "#9c179e"
            ],
            [
             0.4444444444444444,
             "#bd3786"
            ],
            [
             0.5555555555555556,
             "#d8576b"
            ],
            [
             0.6666666666666666,
             "#ed7953"
            ],
            [
             0.7777777777777778,
             "#fb9f3a"
            ],
            [
             0.8888888888888888,
             "#fdca26"
            ],
            [
             1,
             "#f0f921"
            ]
           ]
          },
          "colorway": [
           "#636efa",
           "#EF553B",
           "#00cc96",
           "#ab63fa",
           "#FFA15A",
           "#19d3f3",
           "#FF6692",
           "#B6E880",
           "#FF97FF",
           "#FECB52"
          ],
          "font": {
           "color": "#2a3f5f"
          },
          "geo": {
           "bgcolor": "white",
           "lakecolor": "white",
           "landcolor": "#E5ECF6",
           "showlakes": true,
           "showland": true,
           "subunitcolor": "white"
          },
          "hoverlabel": {
           "align": "left"
          },
          "hovermode": "closest",
          "mapbox": {
           "style": "light"
          },
          "paper_bgcolor": "white",
          "plot_bgcolor": "#E5ECF6",
          "polar": {
           "angularaxis": {
            "gridcolor": "white",
            "linecolor": "white",
            "ticks": ""
           },
           "bgcolor": "#E5ECF6",
           "radialaxis": {
            "gridcolor": "white",
            "linecolor": "white",
            "ticks": ""
           }
          },
          "scene": {
           "xaxis": {
            "backgroundcolor": "#E5ECF6",
            "gridcolor": "white",
            "gridwidth": 2,
            "linecolor": "white",
            "showbackground": true,
            "ticks": "",
            "zerolinecolor": "white"
           },
           "yaxis": {
            "backgroundcolor": "#E5ECF6",
            "gridcolor": "white",
            "gridwidth": 2,
            "linecolor": "white",
            "showbackground": true,
            "ticks": "",
            "zerolinecolor": "white"
           },
           "zaxis": {
            "backgroundcolor": "#E5ECF6",
            "gridcolor": "white",
            "gridwidth": 2,
            "linecolor": "white",
            "showbackground": true,
            "ticks": "",
            "zerolinecolor": "white"
           }
          },
          "shapedefaults": {
           "line": {
            "color": "#2a3f5f"
           }
          },
          "ternary": {
           "aaxis": {
            "gridcolor": "white",
            "linecolor": "white",
            "ticks": ""
           },
           "baxis": {
            "gridcolor": "white",
            "linecolor": "white",
            "ticks": ""
           },
           "bgcolor": "#E5ECF6",
           "caxis": {
            "gridcolor": "white",
            "linecolor": "white",
            "ticks": ""
           }
          },
          "title": {
           "x": 0.05
          },
          "xaxis": {
           "automargin": true,
           "gridcolor": "white",
           "linecolor": "white",
           "ticks": "",
           "title": {
            "standoff": 15
           },
           "zerolinecolor": "white",
           "zerolinewidth": 2
          },
          "yaxis": {
           "automargin": true,
           "gridcolor": "white",
           "linecolor": "white",
           "ticks": "",
           "title": {
            "standoff": 15
           },
           "zerolinecolor": "white",
           "zerolinewidth": 2
          }
         }
        },
        "title": {
         "text": "Correlation between Improvable Score and Final Grade"
        },
        "xaxis": {
         "anchor": "y",
         "autorange": "reversed",
         "domain": [
          0,
          1
         ],
         "title": {
          "text": "FinalGrade"
         }
        },
        "yaxis": {
         "anchor": "x",
         "domain": [
          0,
          1
         ],
         "title": {
          "text": "ImprovableScore"
         }
        }
       }
      }
     },
     "metadata": {},
     "output_type": "display_data"
    },
    {
     "data": {
      "text/plain": [
       "<Figure size 720x720 with 0 Axes>"
      ]
     },
     "metadata": {},
     "output_type": "display_data"
    }
   ],
   "source": [
    "plt.figure(figsize=(10, 10))\n",
    "fig = px.scatter(df, x=\"FinalGrade\", y=\"ImprovableScore\", hover_data='FullName',\n",
    "                     title='Correlation between Improvable Score and Final Grade',\n",
    "                     color='Priority', color_discrete_map={'Yes': 'red', 'No': 'blue'})\n",
    "fig.update_xaxes(autorange=\"reversed\")\n",
    "fig.show()"
   ]
  },
  {
   "cell_type": "code",
   "execution_count": 57,
   "id": "a27a872c",
   "metadata": {},
   "outputs": [
    {
     "data": {
      "text/html": [
       "<div>\n",
       "<style scoped>\n",
       "    .dataframe tbody tr th:only-of-type {\n",
       "        vertical-align: middle;\n",
       "    }\n",
       "\n",
       "    .dataframe tbody tr th {\n",
       "        vertical-align: top;\n",
       "    }\n",
       "\n",
       "    .dataframe thead th {\n",
       "        text-align: right;\n",
       "    }\n",
       "</style>\n",
       "<table border=\"1\" class=\"dataframe\">\n",
       "  <thead>\n",
       "    <tr style=\"text-align: right;\">\n",
       "      <th></th>\n",
       "      <th>StudentID</th>\n",
       "      <th>FullName</th>\n",
       "      <th>school</th>\n",
       "      <th>sex</th>\n",
       "      <th>age</th>\n",
       "      <th>address</th>\n",
       "      <th>famsize</th>\n",
       "      <th>Pstatus</th>\n",
       "      <th>Medu</th>\n",
       "      <th>Fedu</th>\n",
       "      <th>...</th>\n",
       "      <th>famrel</th>\n",
       "      <th>freetime</th>\n",
       "      <th>goout</th>\n",
       "      <th>Dalc</th>\n",
       "      <th>Walc</th>\n",
       "      <th>health</th>\n",
       "      <th>absences</th>\n",
       "      <th>FinalGrade</th>\n",
       "      <th>ImprovableScore</th>\n",
       "      <th>Priority</th>\n",
       "    </tr>\n",
       "  </thead>\n",
       "  <tbody>\n",
       "    <tr>\n",
       "      <th>0</th>\n",
       "      <td>0</td>\n",
       "      <td>Rafael Morais</td>\n",
       "      <td>GP</td>\n",
       "      <td>F</td>\n",
       "      <td>18</td>\n",
       "      <td>U</td>\n",
       "      <td>GT3</td>\n",
       "      <td>A</td>\n",
       "      <td>4</td>\n",
       "      <td>4</td>\n",
       "      <td>...</td>\n",
       "      <td>4</td>\n",
       "      <td>3</td>\n",
       "      <td>4</td>\n",
       "      <td>1</td>\n",
       "      <td>1</td>\n",
       "      <td>3</td>\n",
       "      <td>6</td>\n",
       "      <td>6</td>\n",
       "      <td>0.310564</td>\n",
       "      <td>No</td>\n",
       "    </tr>\n",
       "    <tr>\n",
       "      <th>1</th>\n",
       "      <td>1</td>\n",
       "      <td>Lara Braga</td>\n",
       "      <td>GP</td>\n",
       "      <td>F</td>\n",
       "      <td>17</td>\n",
       "      <td>U</td>\n",
       "      <td>GT3</td>\n",
       "      <td>T</td>\n",
       "      <td>1</td>\n",
       "      <td>1</td>\n",
       "      <td>...</td>\n",
       "      <td>5</td>\n",
       "      <td>3</td>\n",
       "      <td>3</td>\n",
       "      <td>1</td>\n",
       "      <td>1</td>\n",
       "      <td>3</td>\n",
       "      <td>4</td>\n",
       "      <td>6</td>\n",
       "      <td>0.238099</td>\n",
       "      <td>No</td>\n",
       "    </tr>\n",
       "    <tr>\n",
       "      <th>2</th>\n",
       "      <td>2</td>\n",
       "      <td>Gonçalo Azevedo</td>\n",
       "      <td>GP</td>\n",
       "      <td>F</td>\n",
       "      <td>15</td>\n",
       "      <td>U</td>\n",
       "      <td>LE3</td>\n",
       "      <td>T</td>\n",
       "      <td>1</td>\n",
       "      <td>1</td>\n",
       "      <td>...</td>\n",
       "      <td>4</td>\n",
       "      <td>3</td>\n",
       "      <td>2</td>\n",
       "      <td>2</td>\n",
       "      <td>3</td>\n",
       "      <td>3</td>\n",
       "      <td>10</td>\n",
       "      <td>10</td>\n",
       "      <td>0.394321</td>\n",
       "      <td>No</td>\n",
       "    </tr>\n",
       "    <tr>\n",
       "      <th>3</th>\n",
       "      <td>3</td>\n",
       "      <td>Lara Perna</td>\n",
       "      <td>GP</td>\n",
       "      <td>F</td>\n",
       "      <td>15</td>\n",
       "      <td>U</td>\n",
       "      <td>GT3</td>\n",
       "      <td>T</td>\n",
       "      <td>4</td>\n",
       "      <td>2</td>\n",
       "      <td>...</td>\n",
       "      <td>3</td>\n",
       "      <td>2</td>\n",
       "      <td>2</td>\n",
       "      <td>1</td>\n",
       "      <td>1</td>\n",
       "      <td>5</td>\n",
       "      <td>2</td>\n",
       "      <td>15</td>\n",
       "      <td>0.090282</td>\n",
       "      <td>No</td>\n",
       "    </tr>\n",
       "    <tr>\n",
       "      <th>4</th>\n",
       "      <td>4</td>\n",
       "      <td>João Pires</td>\n",
       "      <td>GP</td>\n",
       "      <td>F</td>\n",
       "      <td>16</td>\n",
       "      <td>U</td>\n",
       "      <td>GT3</td>\n",
       "      <td>T</td>\n",
       "      <td>3</td>\n",
       "      <td>3</td>\n",
       "      <td>...</td>\n",
       "      <td>4</td>\n",
       "      <td>3</td>\n",
       "      <td>2</td>\n",
       "      <td>1</td>\n",
       "      <td>2</td>\n",
       "      <td>5</td>\n",
       "      <td>4</td>\n",
       "      <td>10</td>\n",
       "      <td>0.229059</td>\n",
       "      <td>No</td>\n",
       "    </tr>\n",
       "  </tbody>\n",
       "</table>\n",
       "<p>5 rows × 35 columns</p>\n",
       "</div>"
      ],
      "text/plain": [
       "   StudentID         FullName school sex  age address famsize Pstatus  Medu  \\\n",
       "0          0    Rafael Morais     GP   F   18       U     GT3       A     4   \n",
       "1          1       Lara Braga     GP   F   17       U     GT3       T     1   \n",
       "2          2  Gonçalo Azevedo     GP   F   15       U     LE3       T     1   \n",
       "3          3       Lara Perna     GP   F   15       U     GT3       T     4   \n",
       "4          4       João Pires     GP   F   16       U     GT3       T     3   \n",
       "\n",
       "   Fedu  ... famrel freetime goout Dalc  Walc  health  absences FinalGrade  \\\n",
       "0     4  ...      4        3     4    1     1       3         6          6   \n",
       "1     1  ...      5        3     3    1     1       3         4          6   \n",
       "2     1  ...      4        3     2    2     3       3        10         10   \n",
       "3     2  ...      3        2     2    1     1       5         2         15   \n",
       "4     3  ...      4        3     2    1     2       5         4         10   \n",
       "\n",
       "  ImprovableScore Priority  \n",
       "0        0.310564       No  \n",
       "1        0.238099       No  \n",
       "2        0.394321       No  \n",
       "3        0.090282       No  \n",
       "4        0.229059       No  \n",
       "\n",
       "[5 rows x 35 columns]"
      ]
     },
     "execution_count": 57,
     "metadata": {},
     "output_type": "execute_result"
    }
   ],
   "source": [
    "df.head()"
   ]
  },
  {
   "cell_type": "markdown",
   "id": "3d96d70a",
   "metadata": {},
   "source": [
    "### Utilisation ML pour calculer un score"
   ]
  },
  {
   "cell_type": "markdown",
   "id": "3b575ecd",
   "metadata": {},
   "source": [
    "Initialement, j'avais l'intention de réaliser une régression en utilisant la variable \"Finalgrade\" comme variable cible. L'objectif était de prédire les notes finales des élèves en fonction de diverses caractéristiques. Ensuite, en analysant la pertinence de chaque caractéristique, je voulais créer un score qui mesurerait l'impact des variables actionnables sur la prédiction de la note finale. Cependant, les performances de mes modèles de régression étaient insuffisantes, ce qui signifie que les prédictions étaient de qualité médiocre et ne permettaient pas de créer un score fiable en fonction de ces variables actionnables.\n"
   ]
  },
  {
   "cell_type": "code",
   "execution_count": 108,
   "id": "f21a6d70",
   "metadata": {},
   "outputs": [],
   "source": [
    "#Je ne garde que les variables pertinentes pour la prédiction\n",
    "\n",
    "df_reg = df.drop(columns = ['StudentID','FullName','ImprovableScore','Priority'])"
   ]
  },
  {
   "cell_type": "code",
   "execution_count": 60,
   "id": "dc2f04f7",
   "metadata": {},
   "outputs": [
    {
     "name": "stdout",
     "output_type": "stream",
     "text": [
      "<class 'pandas.core.frame.DataFrame'>\n",
      "RangeIndex: 357 entries, 0 to 356\n",
      "Data columns (total 31 columns):\n",
      " #   Column      Non-Null Count  Dtype \n",
      "---  ------      --------------  ----- \n",
      " 0   school      357 non-null    object\n",
      " 1   sex         357 non-null    object\n",
      " 2   age         357 non-null    int64 \n",
      " 3   address     357 non-null    object\n",
      " 4   famsize     357 non-null    object\n",
      " 5   Pstatus     357 non-null    object\n",
      " 6   Medu        357 non-null    int64 \n",
      " 7   Fedu        357 non-null    int64 \n",
      " 8   Mjob        357 non-null    object\n",
      " 9   Fjob        357 non-null    object\n",
      " 10  reason      357 non-null    object\n",
      " 11  guardian    357 non-null    object\n",
      " 12  traveltime  357 non-null    int64 \n",
      " 13  studytime   357 non-null    int64 \n",
      " 14  failures    357 non-null    int64 \n",
      " 15  schoolsup   357 non-null    object\n",
      " 16  famsup      357 non-null    object\n",
      " 17  paid        357 non-null    object\n",
      " 18  activities  357 non-null    object\n",
      " 19  nursery     357 non-null    object\n",
      " 20  higher      357 non-null    object\n",
      " 21  internet    357 non-null    object\n",
      " 22  romantic    357 non-null    object\n",
      " 23  famrel      357 non-null    int64 \n",
      " 24  freetime    357 non-null    int64 \n",
      " 25  goout       357 non-null    int64 \n",
      " 26  Dalc        357 non-null    int64 \n",
      " 27  Walc        357 non-null    int64 \n",
      " 28  health      357 non-null    int64 \n",
      " 29  absences    357 non-null    int64 \n",
      " 30  FinalGrade  357 non-null    int64 \n",
      "dtypes: int64(14), object(17)\n",
      "memory usage: 86.6+ KB\n"
     ]
    }
   ],
   "source": [
    "df_reg.info()"
   ]
  },
  {
   "cell_type": "code",
   "execution_count": 109,
   "id": "9e4aa0fa",
   "metadata": {},
   "outputs": [],
   "source": [
    "# Je supprime les outliers\n",
    "\n",
    "df_reg = df_reg[df_reg['absences'] < 20]"
   ]
  },
  {
   "cell_type": "code",
   "execution_count": 62,
   "id": "f5a31fd1",
   "metadata": {},
   "outputs": [
    {
     "name": "stdout",
     "output_type": "stream",
     "text": [
      "<class 'pandas.core.frame.DataFrame'>\n",
      "Int64Index: 338 entries, 0 to 356\n",
      "Data columns (total 31 columns):\n",
      " #   Column      Non-Null Count  Dtype \n",
      "---  ------      --------------  ----- \n",
      " 0   school      338 non-null    object\n",
      " 1   sex         338 non-null    object\n",
      " 2   age         338 non-null    int64 \n",
      " 3   address     338 non-null    object\n",
      " 4   famsize     338 non-null    object\n",
      " 5   Pstatus     338 non-null    object\n",
      " 6   Medu        338 non-null    int64 \n",
      " 7   Fedu        338 non-null    int64 \n",
      " 8   Mjob        338 non-null    object\n",
      " 9   Fjob        338 non-null    object\n",
      " 10  reason      338 non-null    object\n",
      " 11  guardian    338 non-null    object\n",
      " 12  traveltime  338 non-null    int64 \n",
      " 13  studytime   338 non-null    int64 \n",
      " 14  failures    338 non-null    int64 \n",
      " 15  schoolsup   338 non-null    object\n",
      " 16  famsup      338 non-null    object\n",
      " 17  paid        338 non-null    object\n",
      " 18  activities  338 non-null    object\n",
      " 19  nursery     338 non-null    object\n",
      " 20  higher      338 non-null    object\n",
      " 21  internet    338 non-null    object\n",
      " 22  romantic    338 non-null    object\n",
      " 23  famrel      338 non-null    int64 \n",
      " 24  freetime    338 non-null    int64 \n",
      " 25  goout       338 non-null    int64 \n",
      " 26  Dalc        338 non-null    int64 \n",
      " 27  Walc        338 non-null    int64 \n",
      " 28  health      338 non-null    int64 \n",
      " 29  absences    338 non-null    int64 \n",
      " 30  FinalGrade  338 non-null    int64 \n",
      "dtypes: int64(14), object(17)\n",
      "memory usage: 84.5+ KB\n"
     ]
    }
   ],
   "source": [
    "df_reg.info()"
   ]
  },
  {
   "cell_type": "code",
   "execution_count": 64,
   "id": "7c8dab6c",
   "metadata": {},
   "outputs": [
    {
     "name": "stderr",
     "output_type": "stream",
     "text": [
      "c:\\Users\\cleme\\anaconda3\\lib\\site-packages\\seaborn\\_decorators.py:36: FutureWarning:\n",
      "\n",
      "Pass the following variable as a keyword arg: x. From version 0.12, the only valid positional argument will be `data`, and passing other arguments without an explicit keyword will result in an error or misinterpretation.\n",
      "\n"
     ]
    },
    {
     "data": {
      "text/plain": [
       "<AxesSubplot:xlabel='failures'>"
      ]
     },
     "execution_count": 64,
     "metadata": {},
     "output_type": "execute_result"
    },
    {
     "data": {
      "image/png": "[encoded data removed]",
      "text/plain": [
       "<Figure size 432x288 with 1 Axes>"
      ]
     },
     "metadata": {
      "needs_background": "light"
     },
     "output_type": "display_data"
    }
   ],
   "source": [
    "sns.boxplot(df_reg['failures'])"
   ]
  },
  {
   "cell_type": "code",
   "execution_count": 84,
   "id": "f0f5c504",
   "metadata": {},
   "outputs": [],
   "source": [
    "scaler = StandardScaler()\n",
    "X = df_reg.drop(columns='FinalGrade')\n",
    "y = df_reg['FinalGrade']"
   ]
  },
  {
   "cell_type": "code",
   "execution_count": 124,
   "id": "951e5ba4",
   "metadata": {},
   "outputs": [],
   "source": [
    "scale_columns = ['age','failures','absences']"
   ]
  },
  {
   "cell_type": "code",
   "execution_count": 125,
   "id": "f6cdb366",
   "metadata": {},
   "outputs": [],
   "source": [
    "X = pd.get_dummies(X,drop_first=True)"
   ]
  },
  {
   "cell_type": "code",
   "execution_count": 126,
   "id": "0d39443d",
   "metadata": {},
   "outputs": [
    {
     "data": {
      "text/html": [
       "<div>\n",
       "<style scoped>\n",
       "    .dataframe tbody tr th:only-of-type {\n",
       "        vertical-align: middle;\n",
       "    }\n",
       "\n",
       "    .dataframe tbody tr th {\n",
       "        vertical-align: top;\n",
       "    }\n",
       "\n",
       "    .dataframe thead th {\n",
       "        text-align: right;\n",
       "    }\n",
       "</style>\n",
       "<table border=\"1\" class=\"dataframe\">\n",
       "  <thead>\n",
       "    <tr style=\"text-align: right;\">\n",
       "      <th></th>\n",
       "      <th>age</th>\n",
       "      <th>Medu</th>\n",
       "      <th>Fedu</th>\n",
       "      <th>traveltime</th>\n",
       "      <th>studytime</th>\n",
       "      <th>failures</th>\n",
       "      <th>famrel</th>\n",
       "      <th>freetime</th>\n",
       "      <th>goout</th>\n",
       "      <th>Dalc</th>\n",
       "      <th>...</th>\n",
       "      <th>guardian_mother</th>\n",
       "      <th>guardian_other</th>\n",
       "      <th>schoolsup_yes</th>\n",
       "      <th>famsup_yes</th>\n",
       "      <th>paid_yes</th>\n",
       "      <th>activities_yes</th>\n",
       "      <th>nursery_yes</th>\n",
       "      <th>higher_yes</th>\n",
       "      <th>internet_yes</th>\n",
       "      <th>romantic_yes</th>\n",
       "    </tr>\n",
       "  </thead>\n",
       "  <tbody>\n",
       "    <tr>\n",
       "      <th>0</th>\n",
       "      <td>18</td>\n",
       "      <td>4</td>\n",
       "      <td>4</td>\n",
       "      <td>2</td>\n",
       "      <td>2</td>\n",
       "      <td>0</td>\n",
       "      <td>4</td>\n",
       "      <td>3</td>\n",
       "      <td>4</td>\n",
       "      <td>1</td>\n",
       "      <td>...</td>\n",
       "      <td>1</td>\n",
       "      <td>0</td>\n",
       "      <td>1</td>\n",
       "      <td>0</td>\n",
       "      <td>0</td>\n",
       "      <td>0</td>\n",
       "      <td>1</td>\n",
       "      <td>1</td>\n",
       "      <td>0</td>\n",
       "      <td>0</td>\n",
       "    </tr>\n",
       "    <tr>\n",
       "      <th>1</th>\n",
       "      <td>17</td>\n",
       "      <td>1</td>\n",
       "      <td>1</td>\n",
       "      <td>1</td>\n",
       "      <td>2</td>\n",
       "      <td>0</td>\n",
       "      <td>5</td>\n",
       "      <td>3</td>\n",
       "      <td>3</td>\n",
       "      <td>1</td>\n",
       "      <td>...</td>\n",
       "      <td>0</td>\n",
       "      <td>0</td>\n",
       "      <td>0</td>\n",
       "      <td>1</td>\n",
       "      <td>0</td>\n",
       "      <td>0</td>\n",
       "      <td>0</td>\n",
       "      <td>1</td>\n",
       "      <td>1</td>\n",
       "      <td>0</td>\n",
       "    </tr>\n",
       "    <tr>\n",
       "      <th>2</th>\n",
       "      <td>15</td>\n",
       "      <td>1</td>\n",
       "      <td>1</td>\n",
       "      <td>1</td>\n",
       "      <td>2</td>\n",
       "      <td>3</td>\n",
       "      <td>4</td>\n",
       "      <td>3</td>\n",
       "      <td>2</td>\n",
       "      <td>2</td>\n",
       "      <td>...</td>\n",
       "      <td>1</td>\n",
       "      <td>0</td>\n",
       "      <td>1</td>\n",
       "      <td>0</td>\n",
       "      <td>1</td>\n",
       "      <td>0</td>\n",
       "      <td>1</td>\n",
       "      <td>1</td>\n",
       "      <td>1</td>\n",
       "      <td>0</td>\n",
       "    </tr>\n",
       "    <tr>\n",
       "      <th>3</th>\n",
       "      <td>15</td>\n",
       "      <td>4</td>\n",
       "      <td>2</td>\n",
       "      <td>1</td>\n",
       "      <td>3</td>\n",
       "      <td>0</td>\n",
       "      <td>3</td>\n",
       "      <td>2</td>\n",
       "      <td>2</td>\n",
       "      <td>1</td>\n",
       "      <td>...</td>\n",
       "      <td>1</td>\n",
       "      <td>0</td>\n",
       "      <td>0</td>\n",
       "      <td>1</td>\n",
       "      <td>1</td>\n",
       "      <td>1</td>\n",
       "      <td>1</td>\n",
       "      <td>1</td>\n",
       "      <td>1</td>\n",
       "      <td>1</td>\n",
       "    </tr>\n",
       "    <tr>\n",
       "      <th>4</th>\n",
       "      <td>16</td>\n",
       "      <td>3</td>\n",
       "      <td>3</td>\n",
       "      <td>1</td>\n",
       "      <td>2</td>\n",
       "      <td>0</td>\n",
       "      <td>4</td>\n",
       "      <td>3</td>\n",
       "      <td>2</td>\n",
       "      <td>1</td>\n",
       "      <td>...</td>\n",
       "      <td>0</td>\n",
       "      <td>0</td>\n",
       "      <td>0</td>\n",
       "      <td>1</td>\n",
       "      <td>1</td>\n",
       "      <td>0</td>\n",
       "      <td>1</td>\n",
       "      <td>1</td>\n",
       "      <td>0</td>\n",
       "      <td>0</td>\n",
       "    </tr>\n",
       "  </tbody>\n",
       "</table>\n",
       "<p>5 rows × 39 columns</p>\n",
       "</div>"
      ],
      "text/plain": [
       "   age  Medu  Fedu  traveltime  studytime  failures  famrel  freetime  goout  \\\n",
       "0   18     4     4           2          2         0       4         3      4   \n",
       "1   17     1     1           1          2         0       5         3      3   \n",
       "2   15     1     1           1          2         3       4         3      2   \n",
       "3   15     4     2           1          3         0       3         2      2   \n",
       "4   16     3     3           1          2         0       4         3      2   \n",
       "\n",
       "   Dalc  ...  guardian_mother  guardian_other  schoolsup_yes  famsup_yes  \\\n",
       "0     1  ...                1               0              1           0   \n",
       "1     1  ...                0               0              0           1   \n",
       "2     2  ...                1               0              1           0   \n",
       "3     1  ...                1               0              0           1   \n",
       "4     1  ...                0               0              0           1   \n",
       "\n",
       "   paid_yes  activities_yes  nursery_yes  higher_yes  internet_yes  \\\n",
       "0         0               0            1           1             0   \n",
       "1         0               0            0           1             1   \n",
       "2         1               0            1           1             1   \n",
       "3         1               1            1           1             1   \n",
       "4         1               0            1           1             0   \n",
       "\n",
       "   romantic_yes  \n",
       "0             0  \n",
       "1             0  \n",
       "2             0  \n",
       "3             1  \n",
       "4             0  \n",
       "\n",
       "[5 rows x 39 columns]"
      ]
     },
     "execution_count": 126,
     "metadata": {},
     "output_type": "execute_result"
    }
   ],
   "source": [
    "X.head()"
   ]
  },
  {
   "cell_type": "code",
   "execution_count": 127,
   "id": "05d53895",
   "metadata": {},
   "outputs": [],
   "source": [
    "X_train, X_test, y_train, y_test = train_test_split(X, y, test_size=0.33, random_state=42)"
   ]
  },
  {
   "cell_type": "code",
   "execution_count": 128,
   "id": "84915bc6",
   "metadata": {},
   "outputs": [],
   "source": [
    "X_train[scale_columns] = scaler.fit_transform(X_train[scale_columns])\n",
    "X_test[scale_columns] = scaler.transform(X_test[scale_columns])"
   ]
  },
  {
   "cell_type": "code",
   "execution_count": 129,
   "id": "9cd888a8",
   "metadata": {},
   "outputs": [],
   "source": [
    "from sklearn.ensemble import RandomForestRegressor"
   ]
  },
  {
   "cell_type": "code",
   "execution_count": 130,
   "id": "bd0c4148",
   "metadata": {},
   "outputs": [],
   "source": [
    "rf = RandomForestRegressor()"
   ]
  },
  {
   "cell_type": "code",
   "execution_count": 131,
   "id": "058ffc83",
   "metadata": {},
   "outputs": [
    {
     "data": {
      "text/html": [
       "<style>#sk-container-id-3 {color: black;}#sk-container-id-3 pre{padding: 0;}#sk-container-id-3 div.sk-toggleable {background-color: white;}#sk-container-id-3 label.sk-toggleable__label {cursor: pointer;display: block;width: 100%;margin-bottom: 0;padding: 0.3em;box-sizing: border-box;text-align: center;}#sk-container-id-3 label.sk-toggleable__label-arrow:before {content: \"▸\";float: left;margin-right: 0.25em;color: #696969;}#sk-container-id-3 label.sk-toggleable__label-arrow:hover:before {color: black;}#sk-container-id-3 div.sk-estimator:hover label.sk-toggleable__label-arrow:before {color: black;}#sk-container-id-3 div.sk-toggleable__content {max-height: 0;max-width: 0;overflow: hidden;text-align: left;background-color: #f0f8ff;}#sk-container-id-3 div.sk-toggleable__content pre {margin: 0.2em;color: black;border-radius: 0.25em;background-color: #f0f8ff;}#sk-container-id-3 input.sk-toggleable__control:checked~div.sk-toggleable__content {max-height: 200px;max-width: 100%;overflow: auto;}#sk-container-id-3 input.sk-toggleable__control:checked~label.sk-toggleable__label-arrow:before {content: \"▾\";}#sk-container-id-3 div.sk-estimator input.sk-toggleable__control:checked~label.sk-toggleable__label {background-color: #d4ebff;}#sk-container-id-3 div.sk-label input.sk-toggleable__control:checked~label.sk-toggleable__label {background-color: #d4ebff;}#sk-container-id-3 input.sk-hidden--visually {border: 0;clip: rect(1px 1px 1px 1px);clip: rect(1px, 1px, 1px, 1px);height: 1px;margin: -1px;overflow: hidden;padding: 0;position: absolute;width: 1px;}#sk-container-id-3 div.sk-estimator {font-family: monospace;background-color: #f0f8ff;border: 1px dotted black;border-radius: 0.25em;box-sizing: border-box;margin-bottom: 0.5em;}#sk-container-id-3 div.sk-estimator:hover {background-color: #d4ebff;}#sk-container-id-3 div.sk-parallel-item::after {content: \"\";width: 100%;border-bottom: 1px solid gray;flex-grow: 1;}#sk-container-id-3 div.sk-label:hover label.sk-toggleable__label {background-color: #d4ebff;}#sk-container-id-3 div.sk-serial::before {content: \"\";position: absolute;border-left: 1px solid gray;box-sizing: border-box;top: 0;bottom: 0;left: 50%;z-index: 0;}#sk-container-id-3 div.sk-serial {display: flex;flex-direction: column;align-items: center;background-color: white;padding-right: 0.2em;padding-left: 0.2em;position: relative;}#sk-container-id-3 div.sk-item {position: relative;z-index: 1;}#sk-container-id-3 div.sk-parallel {display: flex;align-items: stretch;justify-content: center;background-color: white;position: relative;}#sk-container-id-3 div.sk-item::before, #sk-container-id-3 div.sk-parallel-item::before {content: \"\";position: absolute;border-left: 1px solid gray;box-sizing: border-box;top: 0;bottom: 0;left: 50%;z-index: -1;}#sk-container-id-3 div.sk-parallel-item {display: flex;flex-direction: column;z-index: 1;position: relative;background-color: white;}#sk-container-id-3 div.sk-parallel-item:first-child::after {align-self: flex-end;width: 50%;}#sk-container-id-3 div.sk-parallel-item:last-child::after {align-self: flex-start;width: 50%;}#sk-container-id-3 div.sk-parallel-item:only-child::after {width: 0;}#sk-container-id-3 div.sk-dashed-wrapped {border: 1px dashed gray;margin: 0 0.4em 0.5em 0.4em;box-sizing: border-box;padding-bottom: 0.4em;background-color: white;}#sk-container-id-3 div.sk-label label {font-family: monospace;font-weight: bold;display: inline-block;line-height: 1.2em;}#sk-container-id-3 div.sk-label-container {text-align: center;}#sk-container-id-3 div.sk-container {/* jupyter's `normalize.less` sets `[hidden] { display: none; }` but bootstrap.min.css set `[hidden] { display: none !important; }` so we also need the `!important` here to be able to override the default hidden behavior on the sphinx rendered scikit-learn.org. See: https://github.com/scikit-learn/scikit-learn/issues/21755 */display: inline-block !important;position: relative;}#sk-container-id-3 div.sk-text-repr-fallback {display: none;}</style><div id=\"sk-container-id-3\" class=\"sk-top-container\"><div class=\"sk-text-repr-fallback\"><pre>RandomForestRegressor()</pre><b>In a Jupyter environment, please rerun this cell to show the HTML representation or trust the notebook. <br />On GitHub, the HTML representation is unable to render, please try loading this page with nbviewer.org.</b></div><div class=\"sk-container\" hidden><div class=\"sk-item\"><div class=\"sk-estimator sk-toggleable\"><input class=\"sk-toggleable__control sk-hidden--visually\" id=\"sk-estimator-id-3\" type=\"checkbox\" checked><label for=\"sk-estimator-id-3\" class=\"sk-toggleable__label sk-toggleable__label-arrow\">RandomForestRegressor</label><div class=\"sk-toggleable__content\"><pre>RandomForestRegressor()</pre></div></div></div></div></div>"
      ],
      "text/plain": [
       "RandomForestRegressor()"
      ]
     },
     "execution_count": 131,
     "metadata": {},
     "output_type": "execute_result"
    }
   ],
   "source": [
    "rf.fit(X_train,y_train)"
   ]
  },
  {
   "cell_type": "code",
   "execution_count": 132,
   "id": "940e7bbf",
   "metadata": {},
   "outputs": [
    {
     "data": {
      "text/plain": [
       "0.15857245849563228"
      ]
     },
     "execution_count": 132,
     "metadata": {},
     "output_type": "execute_result"
    }
   ],
   "source": [
    "rf.score(X_test,y_test)"
   ]
  },
  {
   "cell_type": "code",
   "execution_count": 133,
   "id": "c222544a",
   "metadata": {},
   "outputs": [],
   "source": [
    "param_grid = {\n",
    "    'n_estimators': [100, 200, 300, 400, 500],  # Nombre d'arbres dans la forêt\n",
    "    'max_features': [ 'sqrt', 'log2'],  # Nombre maximal de caractéristiques à considérer pour chaque division\n",
    "    'max_depth': [None, 10, 20, 30, 40, 50],  # Profondeur maximale de chaque arbre\n",
    "    'min_samples_split': [2, 5, 10],  # Nombre minimal d'échantillons requis pour diviser un nœud\n",
    "    'min_samples_leaf': [1, 2, 4],  # Nombre minimal d'échantillons requis pour être une feuille\n",
    "    'bootstrap': [True, False]  # Utilisation de l'échantillonnage bootstrap pour construire les arbres\n",
    "}"
   ]
  },
  {
   "cell_type": "code",
   "execution_count": 134,
   "id": "1a1b0c9f",
   "metadata": {},
   "outputs": [
    {
     "name": "stdout",
     "output_type": "stream",
     "text": [
      "Fitting 5 folds for each of 100 candidates, totalling 500 fits\n"
     ]
    }
   ],
   "source": [
    "from sklearn.model_selection import RandomizedSearchCV\n",
    "\n",
    "random_search = RandomizedSearchCV(estimator=rf, param_distributions=param_grid, n_iter=100, cv=5, verbose=2, random_state=42, n_jobs=-1)\n",
    "\n",
    "\n",
    "random_search.fit(X_train, y_train)\n",
    "\n",
    "\n",
    "best_params = random_search.best_params_"
   ]
  },
  {
   "cell_type": "code",
   "execution_count": 135,
   "id": "86b5df1b",
   "metadata": {},
   "outputs": [
    {
     "data": {
      "text/plain": [
       "0.1792412456764724"
      ]
     },
     "execution_count": 135,
     "metadata": {},
     "output_type": "execute_result"
    }
   ],
   "source": [
    "random_search.best_score_"
   ]
  },
  {
   "cell_type": "code",
   "execution_count": 136,
   "id": "546f057b",
   "metadata": {},
   "outputs": [
    {
     "data": {
      "text/html": [
       "<style>#sk-container-id-4 {color: black;}#sk-container-id-4 pre{padding: 0;}#sk-container-id-4 div.sk-toggleable {background-color: white;}#sk-container-id-4 label.sk-toggleable__label {cursor: pointer;display: block;width: 100%;margin-bottom: 0;padding: 0.3em;box-sizing: border-box;text-align: center;}#sk-container-id-4 label.sk-toggleable__label-arrow:before {content: \"▸\";float: left;margin-right: 0.25em;color: #696969;}#sk-container-id-4 label.sk-toggleable__label-arrow:hover:before {color: black;}#sk-container-id-4 div.sk-estimator:hover label.sk-toggleable__label-arrow:before {color: black;}#sk-container-id-4 div.sk-toggleable__content {max-height: 0;max-width: 0;overflow: hidden;text-align: left;background-color: #f0f8ff;}#sk-container-id-4 div.sk-toggleable__content pre {margin: 0.2em;color: black;border-radius: 0.25em;background-color: #f0f8ff;}#sk-container-id-4 input.sk-toggleable__control:checked~div.sk-toggleable__content {max-height: 200px;max-width: 100%;overflow: auto;}#sk-container-id-4 input.sk-toggleable__control:checked~label.sk-toggleable__label-arrow:before {content: \"▾\";}#sk-container-id-4 div.sk-estimator input.sk-toggleable__control:checked~label.sk-toggleable__label {background-color: #d4ebff;}#sk-container-id-4 div.sk-label input.sk-toggleable__control:checked~label.sk-toggleable__label {background-color: #d4ebff;}#sk-container-id-4 input.sk-hidden--visually {border: 0;clip: rect(1px 1px 1px 1px);clip: rect(1px, 1px, 1px, 1px);height: 1px;margin: -1px;overflow: hidden;padding: 0;position: absolute;width: 1px;}#sk-container-id-4 div.sk-estimator {font-family: monospace;background-color: #f0f8ff;border: 1px dotted black;border-radius: 0.25em;box-sizing: border-box;margin-bottom: 0.5em;}#sk-container-id-4 div.sk-estimator:hover {background-color: #d4ebff;}#sk-container-id-4 div.sk-parallel-item::after {content: \"\";width: 100%;border-bottom: 1px solid gray;flex-grow: 1;}#sk-container-id-4 div.sk-label:hover label.sk-toggleable__label {background-color: #d4ebff;}#sk-container-id-4 div.sk-serial::before {content: \"\";position: absolute;border-left: 1px solid gray;box-sizing: border-box;top: 0;bottom: 0;left: 50%;z-index: 0;}#sk-container-id-4 div.sk-serial {display: flex;flex-direction: column;align-items: center;background-color: white;padding-right: 0.2em;padding-left: 0.2em;position: relative;}#sk-container-id-4 div.sk-item {position: relative;z-index: 1;}#sk-container-id-4 div.sk-parallel {display: flex;align-items: stretch;justify-content: center;background-color: white;position: relative;}#sk-container-id-4 div.sk-item::before, #sk-container-id-4 div.sk-parallel-item::before {content: \"\";position: absolute;border-left: 1px solid gray;box-sizing: border-box;top: 0;bottom: 0;left: 50%;z-index: -1;}#sk-container-id-4 div.sk-parallel-item {display: flex;flex-direction: column;z-index: 1;position: relative;background-color: white;}#sk-container-id-4 div.sk-parallel-item:first-child::after {align-self: flex-end;width: 50%;}#sk-container-id-4 div.sk-parallel-item:last-child::after {align-self: flex-start;width: 50%;}#sk-container-id-4 div.sk-parallel-item:only-child::after {width: 0;}#sk-container-id-4 div.sk-dashed-wrapped {border: 1px dashed gray;margin: 0 0.4em 0.5em 0.4em;box-sizing: border-box;padding-bottom: 0.4em;background-color: white;}#sk-container-id-4 div.sk-label label {font-family: monospace;font-weight: bold;display: inline-block;line-height: 1.2em;}#sk-container-id-4 div.sk-label-container {text-align: center;}#sk-container-id-4 div.sk-container {/* jupyter's `normalize.less` sets `[hidden] { display: none; }` but bootstrap.min.css set `[hidden] { display: none !important; }` so we also need the `!important` here to be able to override the default hidden behavior on the sphinx rendered scikit-learn.org. See: https://github.com/scikit-learn/scikit-learn/issues/21755 */display: inline-block !important;position: relative;}#sk-container-id-4 div.sk-text-repr-fallback {display: none;}</style><div id=\"sk-container-id-4\" class=\"sk-top-container\"><div class=\"sk-text-repr-fallback\"><pre>XGBRegressor(base_score=None, booster=None, callbacks=None,\n",
       "             colsample_bylevel=None, colsample_bynode=None,\n",
       "             colsample_bytree=None, device=None, early_stopping_rounds=None,\n",
       "             enable_categorical=False, eval_metric=None, feature_types=None,\n",
       "             gamma=None, grow_policy=None, importance_type=None,\n",
       "             interaction_constraints=None, learning_rate=None, max_bin=None,\n",
       "             max_cat_threshold=None, max_cat_to_onehot=None,\n",
       "             max_delta_step=None, max_depth=None, max_leaves=None,\n",
       "             min_child_weight=None, missing=nan, monotone_constraints=None,\n",
       "             multi_strategy=None, n_estimators=None, n_jobs=None,\n",
       "             num_parallel_tree=None, random_state=None, ...)</pre><b>In a Jupyter environment, please rerun this cell to show the HTML representation or trust the notebook. <br />On GitHub, the HTML representation is unable to render, please try loading this page with nbviewer.org.</b></div><div class=\"sk-container\" hidden><div class=\"sk-item\"><div class=\"sk-estimator sk-toggleable\"><input class=\"sk-toggleable__control sk-hidden--visually\" id=\"sk-estimator-id-4\" type=\"checkbox\" checked><label for=\"sk-estimator-id-4\" class=\"sk-toggleable__label sk-toggleable__label-arrow\">XGBRegressor</label><div class=\"sk-toggleable__content\"><pre>XGBRegressor(base_score=None, booster=None, callbacks=None,\n",
       "             colsample_bylevel=None, colsample_bynode=None,\n",
       "             colsample_bytree=None, device=None, early_stopping_rounds=None,\n",
       "             enable_categorical=False, eval_metric=None, feature_types=None,\n",
       "             gamma=None, grow_policy=None, importance_type=None,\n",
       "             interaction_constraints=None, learning_rate=None, max_bin=None,\n",
       "             max_cat_threshold=None, max_cat_to_onehot=None,\n",
       "             max_delta_step=None, max_depth=None, max_leaves=None,\n",
       "             min_child_weight=None, missing=nan, monotone_constraints=None,\n",
       "             multi_strategy=None, n_estimators=None, n_jobs=None,\n",
       "             num_parallel_tree=None, random_state=None, ...)</pre></div></div></div></div></div>"
      ],
      "text/plain": [
       "XGBRegressor(base_score=None, booster=None, callbacks=None,\n",
       "             colsample_bylevel=None, colsample_bynode=None,\n",
       "             colsample_bytree=None, device=None, early_stopping_rounds=None,\n",
       "             enable_categorical=False, eval_metric=None, feature_types=None,\n",
       "             gamma=None, grow_policy=None, importance_type=None,\n",
       "             interaction_constraints=None, learning_rate=None, max_bin=None,\n",
       "             max_cat_threshold=None, max_cat_to_onehot=None,\n",
       "             max_delta_step=None, max_depth=None, max_leaves=None,\n",
       "             min_child_weight=None, missing=nan, monotone_constraints=None,\n",
       "             multi_strategy=None, n_estimators=None, n_jobs=None,\n",
       "             num_parallel_tree=None, random_state=None, ...)"
      ]
     },
     "execution_count": 136,
     "metadata": {},
     "output_type": "execute_result"
    }
   ],
   "source": [
    "xgb = XGBRegressor()\n",
    "xgb.fit(X_train,y_train)"
   ]
  },
  {
   "cell_type": "code",
   "execution_count": 137,
   "id": "f2628170",
   "metadata": {},
   "outputs": [
    {
     "data": {
      "text/plain": [
       "0.023885791396724088"
      ]
     },
     "execution_count": 137,
     "metadata": {},
     "output_type": "execute_result"
    }
   ],
   "source": [
    "xgb.score(X_test,y_test)"
   ]
  },
  {
   "cell_type": "code",
   "execution_count": 138,
   "id": "8ac51b49",
   "metadata": {},
   "outputs": [],
   "source": [
    "param_grid = {\n",
    "    'max_depth': np.arange(3, 10, 1),  # Profondeur maximale de chaque arbre\n",
    "    'learning_rate': [0.001, 0.01, 0.1, 0.2, 0.3],  # Taux d'apprentissage\n",
    "    'n_estimators': np.arange(100, 1000, 100),  # Nombre d'arbres dans la forêt\n",
    "    'subsample': [0.6, 0.7, 0.8, 0.9, 1.0],  # Fraction d'échantillons utilisée pour l'entraînement\n",
    "    'colsample_bytree': [0.6, 0.7, 0.8, 0.9, 1.0]  # Fraction de caractéristiques utilisée pour l'entraînement\n",
    "}\n"
   ]
  },
  {
   "cell_type": "code",
   "execution_count": 139,
   "id": "c21b5839",
   "metadata": {},
   "outputs": [
    {
     "name": "stdout",
     "output_type": "stream",
     "text": [
      "Fitting 5 folds for each of 100 candidates, totalling 500 fits\n"
     ]
    }
   ],
   "source": [
    "random_search = RandomizedSearchCV(estimator=xgb, param_distributions=param_grid, n_iter=100, cv=5, verbose=2, random_state=42, n_jobs=-1)\n",
    "\n",
    "# Entraînez la recherche aléatoire sur vos données d'entraînement\n",
    "random_search.fit(X_train, y_train)\n",
    "\n",
    "# Obtenez les meilleurs hyperparamètres trouvés\n",
    "best_params = random_search.best_params_"
   ]
  },
  {
   "cell_type": "code",
   "execution_count": 140,
   "id": "73987d89",
   "metadata": {},
   "outputs": [
    {
     "data": {
      "text/plain": [
       "{'subsample': 1.0,\n",
       " 'n_estimators': 300,\n",
       " 'max_depth': 8,\n",
       " 'learning_rate': 0.01,\n",
       " 'colsample_bytree': 0.6}"
      ]
     },
     "execution_count": 140,
     "metadata": {},
     "output_type": "execute_result"
    }
   ],
   "source": [
    "best_params"
   ]
  },
  {
   "cell_type": "code",
   "execution_count": 141,
   "id": "deb60a39",
   "metadata": {},
   "outputs": [
    {
     "data": {
      "text/plain": [
       "0.17795840180747052"
      ]
     },
     "execution_count": 141,
     "metadata": {},
     "output_type": "execute_result"
    }
   ],
   "source": [
    "random_search.best_score_"
   ]
  },
  {
   "cell_type": "code",
   "execution_count": null,
   "id": "c4a97f72",
   "metadata": {},
   "outputs": [],
   "source": [
    "rf= RandomForestRegressor(**random_search.best_params_)\n",
    "rf.fit(X_train,y_train)\n",
    "\n",
    "y_pred = rf.predict(X_test)\n",
    "\n",
    "\n",
    "mse = mean_squared_error(y_test, y_pred)\n",
    "mse"
   ]
  },
  {
   "cell_type": "code",
   "execution_count": 142,
   "id": "7a2b9eef",
   "metadata": {},
   "outputs": [
    {
     "data": {
      "text/plain": [
       "8.760070797370426"
      ]
     },
     "execution_count": 142,
     "metadata": {},
     "output_type": "execute_result"
    }
   ],
   "source": [
    "xgb = XGBRegressor(**random_search.best_params_)\n",
    "xgb.fit(X_train,y_train)\n",
    "\n",
    "y_pred = xgb.predict(X_test)\n",
    "\n",
    "\n",
    "mse = mean_squared_error(y_test, y_pred)\n",
    "mse"
   ]
  },
  {
   "cell_type": "code",
   "execution_count": 143,
   "id": "37ac6f6f",
   "metadata": {},
   "outputs": [],
   "source": [
    "elastic_net = ElasticNet()\n",
    "\n",
    "# Je définis la grille des hyperparamètres à rechercher\n",
    "param_grid = {\n",
    "    'alpha': [0.01, 0.1, 1.0, 10.0],  # Terme de régularisation L1\n",
    "    'l1_ratio': [0.1, 0.5, 0.7, 0.9]  # Ratio entre la régularisation L1 et L2 (ElasticNet)\n",
    "}\n",
    "\n",
    "\n",
    "grid_search = GridSearchCV(estimator=elastic_net, param_grid=param_grid, cv=5)\n",
    "\n",
    "\n",
    "grid_search.fit(X_train, y_train)\n",
    "\n",
    "\n",
    "best_params = grid_search.best_params_"
   ]
  },
  {
   "cell_type": "code",
   "execution_count": 144,
   "id": "7ffb4bfd",
   "metadata": {},
   "outputs": [
    {
     "data": {
      "text/plain": [
       "0.13208243049864904"
      ]
     },
     "execution_count": 144,
     "metadata": {},
     "output_type": "execute_result"
    }
   ],
   "source": [
    "grid_search.best_score_"
   ]
  },
  {
   "cell_type": "code",
   "execution_count": 146,
   "id": "0bbaad4c",
   "metadata": {},
   "outputs": [
    {
     "data": {
      "text/plain": [
       "8.531024484782002"
      ]
     },
     "execution_count": 146,
     "metadata": {},
     "output_type": "execute_result"
    }
   ],
   "source": [
    "elastic_net = ElasticNet(**grid_search.best_params_)\n",
    "elastic_net.fit(X_train,y_train)\n",
    "\n",
    "y_pred = elastic_net.predict(X_test)\n",
    "\n",
    "\n",
    "mse = mean_squared_error(y_test, y_pred)\n",
    "mse"
   ]
  }
 ],
 "metadata": {
  "kernelspec": {
   "display_name": "Python 3",
   "language": "python",
   "name": "python3"
  },
  "language_info": {
   "codemirror_mode": {
    "name": "ipython",
    "version": 3
   },
   "file_extension": ".py",
   "mimetype": "text/x-python",
   "name": "python",
   "nbconvert_exporter": "python",
   "pygments_lexer": "ipython3",
   "version": "3.8.8"
  }
 },
 "nbformat": 4,
 "nbformat_minor": 5
}
